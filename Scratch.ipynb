{
  "nbformat": 4,
  "nbformat_minor": 0,
  "metadata": {
    "colab": {
      "name": "Scratch.ipynb",
      "provenance": [],
      "collapsed_sections": [],
      "authorship_tag": "ABX9TyOLeMNxl2K9o2kUi//OOe/Y",
      "include_colab_link": true
    },
    "kernelspec": {
      "name": "python3",
      "display_name": "Python 3"
    }
  },
  "cells": [
    {
      "cell_type": "markdown",
      "metadata": {
        "id": "view-in-github",
        "colab_type": "text"
      },
      "source": [
        "<a href=\"https://colab.research.google.com/github/yashsj/ML_Python/blob/master/Scratch.ipynb\" target=\"_parent\"><img src=\"https://colab.research.google.com/assets/colab-badge.svg\" alt=\"Open In Colab\"/></a>"
      ]
    },
    {
      "cell_type": "code",
      "metadata": {
        "id": "cAjmZvkagYzi"
      },
      "source": [
        "import numpy as np"
      ],
      "execution_count": null,
      "outputs": []
    },
    {
      "cell_type": "code",
      "metadata": {
        "id": "QewOaTOTgcyB"
      },
      "source": [
        "A=np.array([[1,1],[1.5,4]])\n",
        "B=np.array([2200,5050])\n"
      ],
      "execution_count": null,
      "outputs": []
    },
    {
      "cell_type": "code",
      "metadata": {
        "colab": {
          "base_uri": "https://localhost:8080/"
        },
        "id": "VmjtS8oigutf",
        "outputId": "456e444b-8763-4265-e25c-d5853fd19381"
      },
      "source": [
        "np.linalg.solve(A,B)"
      ],
      "execution_count": null,
      "outputs": [
        {
          "output_type": "execute_result",
          "data": {
            "text/plain": [
              "array([1500.,  700.])"
            ]
          },
          "metadata": {
            "tags": []
          },
          "execution_count": 10
        }
      ]
    },
    {
      "cell_type": "code",
      "metadata": {
        "colab": {
          "base_uri": "https://localhost:8080/"
        },
        "id": "U8ISAHhFhHNv",
        "outputId": "d1d3eb17-302c-4d7e-888d-df3a9aa9de7d"
      },
      "source": [
        "np.linalg.inv(A).dot(B)   "
      ],
      "execution_count": null,
      "outputs": [
        {
          "output_type": "execute_result",
          "data": {
            "text/plain": [
              "array([1500.,  700.])"
            ]
          },
          "metadata": {
            "tags": []
          },
          "execution_count": 12
        }
      ]
    },
    {
      "cell_type": "code",
      "metadata": {
        "colab": {
          "base_uri": "https://localhost:8080/"
        },
        "id": "xJhBNrkqzRPi",
        "outputId": "35bf4de7-bccf-4b3e-cffc-725529fed6eb"
      },
      "source": [
        "np.zeros((2,3))"
      ],
      "execution_count": null,
      "outputs": [
        {
          "output_type": "execute_result",
          "data": {
            "text/plain": [
              "array([[0., 0., 0.],\n",
              "       [0., 0., 0.]])"
            ]
          },
          "metadata": {
            "tags": []
          },
          "execution_count": 13
        }
      ]
    },
    {
      "cell_type": "code",
      "metadata": {
        "colab": {
          "base_uri": "https://localhost:8080/"
        },
        "id": "glioG-CVzUO9",
        "outputId": "369425cb-a8fd-4faa-d22c-0bf84be27a01"
      },
      "source": [
        "np.eye(3)"
      ],
      "execution_count": null,
      "outputs": [
        {
          "output_type": "execute_result",
          "data": {
            "text/plain": [
              "array([[1., 0., 0.],\n",
              "       [0., 1., 0.],\n",
              "       [0., 0., 1.]])"
            ]
          },
          "metadata": {
            "tags": []
          },
          "execution_count": 14
        }
      ]
    },
    {
      "cell_type": "code",
      "metadata": {
        "colab": {
          "base_uri": "https://localhost:8080/"
        },
        "id": "6TpARqwOzqjI",
        "outputId": "e2c12b76-a4f1-442f-ee00-7deb0b227f67"
      },
      "source": [
        "np.random.randn(3,4)  \n",
        "#Doesnt accept the tuple, send it as an argument"
      ],
      "execution_count": null,
      "outputs": [
        {
          "output_type": "execute_result",
          "data": {
            "text/plain": [
              "array([[ 0.10630021, -2.09224284,  1.71198286,  0.64804313],\n",
              "       [ 0.18241395, -0.42058973, -0.0086337 ,  0.4483375 ],\n",
              "       [ 1.69791441, -0.22321521,  1.22462898, -2.32817396]])"
            ]
          },
          "metadata": {
            "tags": []
          },
          "execution_count": 19
        }
      ]
    },
    {
      "cell_type": "code",
      "metadata": {
        "colab": {
          "base_uri": "https://localhost:8080/"
        },
        "id": "jQkUDGkN0AAq",
        "outputId": "426b6ac8-2fbf-460f-8fbe-25e04761a8df"
      },
      "source": [
        "np.random.random((2,3))"
      ],
      "execution_count": null,
      "outputs": [
        {
          "output_type": "execute_result",
          "data": {
            "text/plain": [
              "array([[0.02382797, 0.31558884, 0.16558725],\n",
              "       [0.02718917, 0.69054798, 0.43517694]])"
            ]
          },
          "metadata": {
            "tags": []
          },
          "execution_count": 20
        }
      ]
    },
    {
      "cell_type": "code",
      "metadata": {
        "id": "9lmo0DlF0h-l"
      },
      "source": [
        "Rand=np.random.randn(10000)"
      ],
      "execution_count": null,
      "outputs": []
    },
    {
      "cell_type": "code",
      "metadata": {
        "colab": {
          "base_uri": "https://localhost:8080/"
        },
        "id": "bB3QfbMS09gD",
        "outputId": "bd3c7a93-5465-47c3-80da-bdb68dad1983"
      },
      "source": [
        "Rand.mean()"
      ],
      "execution_count": null,
      "outputs": [
        {
          "output_type": "execute_result",
          "data": {
            "text/plain": [
              "-0.002985071537299176"
            ]
          },
          "metadata": {
            "tags": []
          },
          "execution_count": 24
        }
      ]
    },
    {
      "cell_type": "code",
      "metadata": {
        "colab": {
          "base_uri": "https://localhost:8080/"
        },
        "id": "caQRGHl_0_J_",
        "outputId": "c54d62fc-c721-4134-bcb9-ef21485a5e66"
      },
      "source": [
        "np.mean(Rand)"
      ],
      "execution_count": null,
      "outputs": [
        {
          "output_type": "execute_result",
          "data": {
            "text/plain": [
              "-0.002985071537299176"
            ]
          },
          "metadata": {
            "tags": []
          },
          "execution_count": 25
        }
      ]
    },
    {
      "cell_type": "code",
      "metadata": {
        "colab": {
          "base_uri": "https://localhost:8080/"
        },
        "id": "5cfL9fvP1FZB",
        "outputId": "8ef549ce-5c0d-4f7f-9122-d5a87a4e6875"
      },
      "source": [
        "Rand.var()"
      ],
      "execution_count": null,
      "outputs": [
        {
          "output_type": "execute_result",
          "data": {
            "text/plain": [
              "1.0165554450628478"
            ]
          },
          "metadata": {
            "tags": []
          },
          "execution_count": 26
        }
      ]
    },
    {
      "cell_type": "code",
      "metadata": {
        "colab": {
          "base_uri": "https://localhost:8080/"
        },
        "id": "rsU6leit1JSq",
        "outputId": "5d43b91a-69e8-4b2d-c538-70210d453287"
      },
      "source": [
        "Rand.std()"
      ],
      "execution_count": null,
      "outputs": [
        {
          "output_type": "execute_result",
          "data": {
            "text/plain": [
              "1.0082437428830628"
            ]
          },
          "metadata": {
            "tags": []
          },
          "execution_count": 28
        }
      ]
    },
    {
      "cell_type": "code",
      "metadata": {
        "id": "_Amy7Vng1MWF"
      },
      "source": [
        "R=np.random.randn(10000,3)"
      ],
      "execution_count": null,
      "outputs": []
    },
    {
      "cell_type": "code",
      "metadata": {
        "colab": {
          "base_uri": "https://localhost:8080/"
        },
        "id": "CakSjtuC1XQC",
        "outputId": "03013899-15d0-49c6-d042-5f1862574313"
      },
      "source": [
        "R.mean(axis=0)"
      ],
      "execution_count": null,
      "outputs": [
        {
          "output_type": "execute_result",
          "data": {
            "text/plain": [
              "array([-0.00759105, -0.0084162 , -0.00740482])"
            ]
          },
          "metadata": {
            "tags": []
          },
          "execution_count": 33
        }
      ]
    },
    {
      "cell_type": "code",
      "metadata": {
        "colab": {
          "base_uri": "https://localhost:8080/"
        },
        "id": "rSESuTgM1oHs",
        "outputId": "70b9f8f1-e1bc-4e0b-acda-66d61b5246e7"
      },
      "source": [
        "np.cov(R).shape"
      ],
      "execution_count": null,
      "outputs": [
        {
          "output_type": "execute_result",
          "data": {
            "text/plain": [
              "(10000, 10000)"
            ]
          },
          "metadata": {
            "tags": []
          },
          "execution_count": 35
        }
      ]
    },
    {
      "cell_type": "code",
      "metadata": {
        "colab": {
          "base_uri": "https://localhost:8080/"
        },
        "id": "hS6PePr62EUh",
        "outputId": "23f4003e-5925-4609-b0d0-dad0510fe9ed"
      },
      "source": [
        "np.cov(R.T)"
      ],
      "execution_count": null,
      "outputs": [
        {
          "output_type": "execute_result",
          "data": {
            "text/plain": [
              "array([[ 1.0146411 , -0.00546394, -0.0029339 ],\n",
              "       [-0.00546394,  1.01432814, -0.00663311],\n",
              "       [-0.0029339 , -0.00663311,  1.00419134]])"
            ]
          },
          "metadata": {
            "tags": []
          },
          "execution_count": 36
        }
      ]
    },
    {
      "cell_type": "code",
      "metadata": {
        "colab": {
          "base_uri": "https://localhost:8080/"
        },
        "id": "xspkO0f52J29",
        "outputId": "5f10a979-a96a-417c-fc3a-419677900cee"
      },
      "source": [
        "np.random.randint(0,10,size=(3,3))"
      ],
      "execution_count": null,
      "outputs": [
        {
          "output_type": "execute_result",
          "data": {
            "text/plain": [
              "array([[6, 2, 9],\n",
              "       [3, 3, 0],\n",
              "       [0, 3, 4]])"
            ]
          },
          "metadata": {
            "tags": []
          },
          "execution_count": 39
        }
      ]
    },
    {
      "cell_type": "code",
      "metadata": {
        "colab": {
          "base_uri": "https://localhost:8080/"
        },
        "id": "Z3jOhqYT2xE6",
        "outputId": "88a5dcc0-c970-44e2-8498-494700f63c2e"
      },
      "source": [
        "from datetime import datetime\n",
        "import numpy as np\n",
        "\n",
        "a=np.ones((3,3))*2\n",
        "b=np.ones((3,3))*10\n",
        "r=np.zeros((3,3))\n",
        "T=10000\n",
        "\n",
        "def slow(a,b):\n",
        "\n",
        "  for i in range (len(a)):\n",
        "    for j in range (len(b[0])):\n",
        "      for k in range (len(b)):\n",
        "         r[i][j]+=a[i][k]*b[k][j]\n",
        "  return res\n",
        "\n",
        "\n",
        "t0=datetime.now()\n",
        "for t in range(T):\n",
        "  slow(a,b)\n",
        "  dt1=datetime.now()-t0\n",
        "\n",
        "t0=datetime.now()\n",
        "for t in range(T):\n",
        "  a.dot(b)\n",
        "  dt2=datetime.now()-t0\n",
        "\n",
        "\n",
        "print(\"dt1/dt2:\", dt1.total_seconds()/dt2.total_seconds())\n"
      ],
      "execution_count": null,
      "outputs": [
        {
          "output_type": "stream",
          "text": [
            "dt1/dt2: 25.337554112554113\n"
          ],
          "name": "stdout"
        }
      ]
    },
    {
      "cell_type": "code",
      "metadata": {
        "colab": {
          "base_uri": "https://localhost:8080/"
        },
        "id": "MJY2JeREPn07",
        "outputId": "dee99b64-59ab-4ab5-c816-a502d1eec61d"
      },
      "source": [
        "a"
      ],
      "execution_count": null,
      "outputs": [
        {
          "output_type": "execute_result",
          "data": {
            "text/plain": [
              "array([[2., 2., 2.],\n",
              "       [2., 2., 2.],\n",
              "       [2., 2., 2.]])"
            ]
          },
          "metadata": {
            "tags": []
          },
          "execution_count": 53
        }
      ]
    },
    {
      "cell_type": "code",
      "metadata": {
        "colab": {
          "base_uri": "https://localhost:8080/"
        },
        "id": "hWDltCWLSrHy",
        "outputId": "521b6f59-2855-4383-a9e9-de513740a2fb"
      },
      "source": [
        "r"
      ],
      "execution_count": null,
      "outputs": [
        {
          "output_type": "execute_result",
          "data": {
            "text/plain": [
              "array([[600000., 600000., 600000.],\n",
              "       [600000., 600000., 600000.],\n",
              "       [600000., 600000., 600000.]])"
            ]
          },
          "metadata": {
            "tags": []
          },
          "execution_count": 54
        }
      ]
    },
    {
      "cell_type": "code",
      "metadata": {
        "colab": {
          "base_uri": "https://localhost:8080/"
        },
        "id": "YMT9eJLwPqRP",
        "outputId": "61bef649-a53f-4940-db0c-84dbbda52f11"
      },
      "source": [
        "a.shape"
      ],
      "execution_count": null,
      "outputs": [
        {
          "output_type": "execute_result",
          "data": {
            "text/plain": [
              "(3, 3)"
            ]
          },
          "metadata": {
            "tags": []
          },
          "execution_count": 55
        }
      ]
    },
    {
      "cell_type": "code",
      "metadata": {
        "colab": {
          "base_uri": "https://localhost:8080/"
        },
        "id": "iDcMGhpQPq_w",
        "outputId": "2dab3663-625a-4a35-f67a-bec317e275c0"
      },
      "source": [
        "np.matmul(a,b)"
      ],
      "execution_count": null,
      "outputs": [
        {
          "output_type": "execute_result",
          "data": {
            "text/plain": [
              "array([[60., 60., 60.],\n",
              "       [60., 60., 60.],\n",
              "       [60., 60., 60.]])"
            ]
          },
          "metadata": {
            "tags": []
          },
          "execution_count": 56
        }
      ]
    },
    {
      "cell_type": "code",
      "metadata": {
        "colab": {
          "base_uri": "https://localhost:8080/"
        },
        "id": "Zxp7W5KLPrqi",
        "outputId": "a248fd79-ef73-4f79-e807-71790205e281"
      },
      "source": [
        "a.dot(b)"
      ],
      "execution_count": null,
      "outputs": [
        {
          "output_type": "execute_result",
          "data": {
            "text/plain": [
              "array([[60., 60., 60.],\n",
              "       [60., 60., 60.],\n",
              "       [60., 60., 60.]])"
            ]
          },
          "metadata": {
            "tags": []
          },
          "execution_count": 57
        }
      ]
    },
    {
      "cell_type": "code",
      "metadata": {
        "colab": {
          "base_uri": "https://localhost:8080/"
        },
        "id": "M-ojP0gpPsay",
        "outputId": "8d243cf9-1e2a-4a65-8363-d3883a21297a"
      },
      "source": [
        "b"
      ],
      "execution_count": null,
      "outputs": [
        {
          "output_type": "execute_result",
          "data": {
            "text/plain": [
              "array([[10., 10., 10.],\n",
              "       [10., 10., 10.],\n",
              "       [10., 10., 10.]])"
            ]
          },
          "metadata": {
            "tags": []
          },
          "execution_count": 58
        }
      ]
    },
    {
      "cell_type": "code",
      "metadata": {
        "id": "W-JqxEn4Ps_B"
      },
      "source": [
        "from keras.datasets import mnist"
      ],
      "execution_count": null,
      "outputs": []
    },
    {
      "cell_type": "code",
      "metadata": {
        "colab": {
          "base_uri": "https://localhost:8080/"
        },
        "id": "LM7PeCKchiVX",
        "outputId": "0c92f935-dfe6-4af1-bed4-5c178b106c34"
      },
      "source": [
        "(ti,tl),(testim,testla)=mnist.load_data()"
      ],
      "execution_count": null,
      "outputs": [
        {
          "output_type": "stream",
          "text": [
            "Downloading data from https://storage.googleapis.com/tensorflow/tf-keras-datasets/mnist.npz\n",
            "11493376/11490434 [==============================] - 0s 0us/step\n"
          ],
          "name": "stdout"
        }
      ]
    },
    {
      "cell_type": "code",
      "metadata": {
        "colab": {
          "base_uri": "https://localhost:8080/"
        },
        "id": "lt5r9QA1hv9C",
        "outputId": "a3f4e3fb-2a76-4a00-c605-aeddbfd09dec"
      },
      "source": [
        "ti.shape "
      ],
      "execution_count": null,
      "outputs": [
        {
          "output_type": "execute_result",
          "data": {
            "text/plain": [
              "(60000, 28, 28)"
            ]
          },
          "metadata": {
            "tags": []
          },
          "execution_count": 6
        }
      ]
    },
    {
      "cell_type": "code",
      "metadata": {
        "colab": {
          "base_uri": "https://localhost:8080/"
        },
        "id": "ldOjQmBmi0a0",
        "outputId": "32140a1b-513b-41c7-e642-68c696a1463f"
      },
      "source": [
        "len(ti)"
      ],
      "execution_count": null,
      "outputs": [
        {
          "output_type": "execute_result",
          "data": {
            "text/plain": [
              "60000"
            ]
          },
          "metadata": {
            "tags": []
          },
          "execution_count": 7
        }
      ]
    },
    {
      "cell_type": "code",
      "metadata": {
        "colab": {
          "base_uri": "https://localhost:8080/"
        },
        "id": "mzQOxsnVi2of",
        "outputId": "9b96dc34-942f-4839-de2d-25955d9f8fcd"
      },
      "source": [
        "len(tl)"
      ],
      "execution_count": null,
      "outputs": [
        {
          "output_type": "execute_result",
          "data": {
            "text/plain": [
              "60000"
            ]
          },
          "metadata": {
            "tags": []
          },
          "execution_count": 46
        }
      ]
    },
    {
      "cell_type": "code",
      "metadata": {
        "colab": {
          "base_uri": "https://localhost:8080/"
        },
        "id": "28kzIiDykOmU",
        "outputId": "cccd2270-d80d-4fd6-b252-543d7d45840c"
      },
      "source": [
        "tl"
      ],
      "execution_count": null,
      "outputs": [
        {
          "output_type": "execute_result",
          "data": {
            "text/plain": [
              "array([5, 0, 4, ..., 5, 6, 8], dtype=uint8)"
            ]
          },
          "metadata": {
            "tags": []
          },
          "execution_count": 9
        }
      ]
    },
    {
      "cell_type": "code",
      "metadata": {
        "id": "e-86hDRdkRLE"
      },
      "source": [
        "from keras import layers\n",
        "from keras import models\n",
        "\n"
      ],
      "execution_count": null,
      "outputs": []
    },
    {
      "cell_type": "code",
      "metadata": {
        "id": "h2es3BVdkeUt"
      },
      "source": [
        "network=models.Sequential()"
      ],
      "execution_count": null,
      "outputs": []
    },
    {
      "cell_type": "code",
      "metadata": {
        "id": "rbfFVdk3m5Ou"
      },
      "source": [
        "\n",
        "network.add(layers.Dense(512,activation='relu',input_shape=(28*28,)))"
      ],
      "execution_count": null,
      "outputs": []
    },
    {
      "cell_type": "code",
      "metadata": {
        "id": "1OPrMGzlmqeK"
      },
      "source": [
        "\n",
        "network.add(layers.Dense(10,activation='softmax'))"
      ],
      "execution_count": null,
      "outputs": []
    },
    {
      "cell_type": "code",
      "metadata": {
        "id": "6M8GtJgsqNjD"
      },
      "source": [
        "network.compile(optimizer='rmsprop',loss='crossentropy',metrics=['accuracy'])"
      ],
      "execution_count": null,
      "outputs": []
    },
    {
      "cell_type": "code",
      "metadata": {
        "id": "xf0q3j-wqsO8"
      },
      "source": [
        "ti=ti.reshape(( 60000,28*28))"
      ],
      "execution_count": null,
      "outputs": []
    },
    {
      "cell_type": "code",
      "metadata": {
        "id": "MCQFnO2uq1TW"
      },
      "source": [
        "                         ti=ti.astype('float32')/255\n"
      ],
      "execution_count": null,
      "outputs": []
    },
    {
      "cell_type": "code",
      "metadata": {
        "id": "enwFG7vBrGcy"
      },
      "source": [
        "testim=testim.reshape((10000,28*28))\n",
        "\n"
      ],
      "execution_count": null,
      "outputs": []
    },
    {
      "cell_type": "code",
      "metadata": {
        "id": "4nsxqhGGr_ef"
      },
      "source": [
        "testim=testim.astype('float32')/255\n"
      ],
      "execution_count": null,
      "outputs": []
    },
    {
      "cell_type": "code",
      "metadata": {
        "id": "ELkspjV6s0An"
      },
      "source": [
        "from keras.utils import to_categorical\n"
      ],
      "execution_count": null,
      "outputs": []
    },
    {
      "cell_type": "code",
      "metadata": {
        "id": "35a19VDgtD-g"
      },
      "source": [
        "tl=to_categorical(tl)"
      ],
      "execution_count": null,
      "outputs": []
    },
    {
      "cell_type": "code",
      "metadata": {
        "id": "f97BGD8atLUD"
      },
      "source": [
        "testla=to_categorical(testla)"
      ],
      "execution_count": null,
      "outputs": []
    },
    {
      "cell_type": "code",
      "metadata": {
        "colab": {
          "base_uri": "https://localhost:8080/",
          "height": 340
        },
        "id": "j4wGTyM3tSgw",
        "outputId": "b48bfa17-8aad-44e9-e7ab-67bc9b6dae9f"
      },
      "source": [
        "network.fit(ti,tl,epochs=5,batch_size=128)"
      ],
      "execution_count": null,
      "outputs": [
        {
          "output_type": "stream",
          "text": [
            "Epoch 1/5\n"
          ],
          "name": "stdout"
        },
        {
          "output_type": "error",
          "ename": "TypeError",
          "evalue": "ignored",
          "traceback": [
            "\u001b[0;31m---------------------------------------------------------------------------\u001b[0m",
            "\u001b[0;31mTypeError\u001b[0m                                 Traceback (most recent call last)",
            "\u001b[0;32m<ipython-input-60-b5e2e8fca74e>\u001b[0m in \u001b[0;36m<module>\u001b[0;34m()\u001b[0m\n\u001b[0;32m----> 1\u001b[0;31m \u001b[0mnetwork\u001b[0m\u001b[0;34m.\u001b[0m\u001b[0mfit\u001b[0m\u001b[0;34m(\u001b[0m\u001b[0mti\u001b[0m\u001b[0;34m,\u001b[0m\u001b[0mtl\u001b[0m\u001b[0;34m,\u001b[0m\u001b[0mepochs\u001b[0m\u001b[0;34m=\u001b[0m\u001b[0;36m5\u001b[0m\u001b[0;34m,\u001b[0m\u001b[0mbatch_size\u001b[0m\u001b[0;34m=\u001b[0m\u001b[0;36m128\u001b[0m\u001b[0;34m)\u001b[0m\u001b[0;34m\u001b[0m\u001b[0;34m\u001b[0m\u001b[0m\n\u001b[0m",
            "\u001b[0;32m/usr/local/lib/python3.6/dist-packages/tensorflow/python/keras/engine/training.py\u001b[0m in \u001b[0;36mfit\u001b[0;34m(self, x, y, batch_size, epochs, verbose, callbacks, validation_split, validation_data, shuffle, class_weight, sample_weight, initial_epoch, steps_per_epoch, validation_steps, validation_batch_size, validation_freq, max_queue_size, workers, use_multiprocessing)\u001b[0m\n\u001b[1;32m   1098\u001b[0m                 _r=1):\n\u001b[1;32m   1099\u001b[0m               \u001b[0mcallbacks\u001b[0m\u001b[0;34m.\u001b[0m\u001b[0mon_train_batch_begin\u001b[0m\u001b[0;34m(\u001b[0m\u001b[0mstep\u001b[0m\u001b[0;34m)\u001b[0m\u001b[0;34m\u001b[0m\u001b[0;34m\u001b[0m\u001b[0m\n\u001b[0;32m-> 1100\u001b[0;31m               \u001b[0mtmp_logs\u001b[0m \u001b[0;34m=\u001b[0m \u001b[0mself\u001b[0m\u001b[0;34m.\u001b[0m\u001b[0mtrain_function\u001b[0m\u001b[0;34m(\u001b[0m\u001b[0miterator\u001b[0m\u001b[0;34m)\u001b[0m\u001b[0;34m\u001b[0m\u001b[0;34m\u001b[0m\u001b[0m\n\u001b[0m\u001b[1;32m   1101\u001b[0m               \u001b[0;32mif\u001b[0m \u001b[0mdata_handler\u001b[0m\u001b[0;34m.\u001b[0m\u001b[0mshould_sync\u001b[0m\u001b[0;34m:\u001b[0m\u001b[0;34m\u001b[0m\u001b[0;34m\u001b[0m\u001b[0m\n\u001b[1;32m   1102\u001b[0m                 \u001b[0mcontext\u001b[0m\u001b[0;34m.\u001b[0m\u001b[0masync_wait\u001b[0m\u001b[0;34m(\u001b[0m\u001b[0;34m)\u001b[0m\u001b[0;34m\u001b[0m\u001b[0;34m\u001b[0m\u001b[0m\n",
            "\u001b[0;32m/usr/local/lib/python3.6/dist-packages/tensorflow/python/eager/def_function.py\u001b[0m in \u001b[0;36m__call__\u001b[0;34m(self, *args, **kwds)\u001b[0m\n\u001b[1;32m    826\u001b[0m     \u001b[0mtracing_count\u001b[0m \u001b[0;34m=\u001b[0m \u001b[0mself\u001b[0m\u001b[0;34m.\u001b[0m\u001b[0mexperimental_get_tracing_count\u001b[0m\u001b[0;34m(\u001b[0m\u001b[0;34m)\u001b[0m\u001b[0;34m\u001b[0m\u001b[0;34m\u001b[0m\u001b[0m\n\u001b[1;32m    827\u001b[0m     \u001b[0;32mwith\u001b[0m \u001b[0mtrace\u001b[0m\u001b[0;34m.\u001b[0m\u001b[0mTrace\u001b[0m\u001b[0;34m(\u001b[0m\u001b[0mself\u001b[0m\u001b[0;34m.\u001b[0m\u001b[0m_name\u001b[0m\u001b[0;34m)\u001b[0m \u001b[0;32mas\u001b[0m \u001b[0mtm\u001b[0m\u001b[0;34m:\u001b[0m\u001b[0;34m\u001b[0m\u001b[0;34m\u001b[0m\u001b[0m\n\u001b[0;32m--> 828\u001b[0;31m       \u001b[0mresult\u001b[0m \u001b[0;34m=\u001b[0m \u001b[0mself\u001b[0m\u001b[0;34m.\u001b[0m\u001b[0m_call\u001b[0m\u001b[0;34m(\u001b[0m\u001b[0;34m*\u001b[0m\u001b[0margs\u001b[0m\u001b[0;34m,\u001b[0m \u001b[0;34m**\u001b[0m\u001b[0mkwds\u001b[0m\u001b[0;34m)\u001b[0m\u001b[0;34m\u001b[0m\u001b[0;34m\u001b[0m\u001b[0m\n\u001b[0m\u001b[1;32m    829\u001b[0m       \u001b[0mcompiler\u001b[0m \u001b[0;34m=\u001b[0m \u001b[0;34m\"xla\"\u001b[0m \u001b[0;32mif\u001b[0m \u001b[0mself\u001b[0m\u001b[0;34m.\u001b[0m\u001b[0m_experimental_compile\u001b[0m \u001b[0;32melse\u001b[0m \u001b[0;34m\"nonXla\"\u001b[0m\u001b[0;34m\u001b[0m\u001b[0;34m\u001b[0m\u001b[0m\n\u001b[1;32m    830\u001b[0m       \u001b[0mnew_tracing_count\u001b[0m \u001b[0;34m=\u001b[0m \u001b[0mself\u001b[0m\u001b[0;34m.\u001b[0m\u001b[0mexperimental_get_tracing_count\u001b[0m\u001b[0;34m(\u001b[0m\u001b[0;34m)\u001b[0m\u001b[0;34m\u001b[0m\u001b[0;34m\u001b[0m\u001b[0m\n",
            "\u001b[0;32m/usr/local/lib/python3.6/dist-packages/tensorflow/python/eager/def_function.py\u001b[0m in \u001b[0;36m_call\u001b[0;34m(self, *args, **kwds)\u001b[0m\n\u001b[1;32m    853\u001b[0m       \u001b[0;31m# In this case we have created variables on the first call, so we run the\u001b[0m\u001b[0;34m\u001b[0m\u001b[0;34m\u001b[0m\u001b[0;34m\u001b[0m\u001b[0m\n\u001b[1;32m    854\u001b[0m       \u001b[0;31m# defunned version which is guaranteed to never create variables.\u001b[0m\u001b[0;34m\u001b[0m\u001b[0;34m\u001b[0m\u001b[0;34m\u001b[0m\u001b[0m\n\u001b[0;32m--> 855\u001b[0;31m       \u001b[0;32mreturn\u001b[0m \u001b[0mself\u001b[0m\u001b[0;34m.\u001b[0m\u001b[0m_stateless_fn\u001b[0m\u001b[0;34m(\u001b[0m\u001b[0;34m*\u001b[0m\u001b[0margs\u001b[0m\u001b[0;34m,\u001b[0m \u001b[0;34m**\u001b[0m\u001b[0mkwds\u001b[0m\u001b[0;34m)\u001b[0m  \u001b[0;31m# pylint: disable=not-callable\u001b[0m\u001b[0;34m\u001b[0m\u001b[0;34m\u001b[0m\u001b[0m\n\u001b[0m\u001b[1;32m    856\u001b[0m     \u001b[0;32melif\u001b[0m \u001b[0mself\u001b[0m\u001b[0;34m.\u001b[0m\u001b[0m_stateful_fn\u001b[0m \u001b[0;32mis\u001b[0m \u001b[0;32mnot\u001b[0m \u001b[0;32mNone\u001b[0m\u001b[0;34m:\u001b[0m\u001b[0;34m\u001b[0m\u001b[0;34m\u001b[0m\u001b[0m\n\u001b[1;32m    857\u001b[0m       \u001b[0;31m# Release the lock early so that multiple threads can perform the call\u001b[0m\u001b[0;34m\u001b[0m\u001b[0;34m\u001b[0m\u001b[0;34m\u001b[0m\u001b[0m\n",
            "\u001b[0;31mTypeError\u001b[0m: 'NoneType' object is not callable"
          ]
        }
      ]
    },
    {
      "cell_type": "code",
      "metadata": {
        "id": "EJx_JX3Ltcyu"
      },
      "source": [
        "stri= \"HEHE\""
      ],
      "execution_count": null,
      "outputs": []
    },
    {
      "cell_type": "code",
      "metadata": {
        "colab": {
          "base_uri": "https://localhost:8080/"
        },
        "id": "Wdo4f_t5yXWx",
        "outputId": "7a711c6a-7cbe-410e-9332-dfac720e012a"
      },
      "source": [
        "print(stri)"
      ],
      "execution_count": null,
      "outputs": [
        {
          "output_type": "stream",
          "text": [
            "HEHE\n"
          ],
          "name": "stdout"
        }
      ]
    },
    {
      "cell_type": "code",
      "metadata": {
        "id": "pKCwsi-nyh_C"
      },
      "source": [
        "s=\"Hi I am a student\""
      ],
      "execution_count": null,
      "outputs": []
    },
    {
      "cell_type": "code",
      "metadata": {
        "colab": {
          "base_uri": "https://localhost:8080/",
          "height": 35
        },
        "id": "RKY1DRizzJMC",
        "outputId": "edbcd6f2-f319-46de-f470-54c459659be9"
      },
      "source": [
        "s"
      ],
      "execution_count": null,
      "outputs": [
        {
          "output_type": "execute_result",
          "data": {
            "application/vnd.google.colaboratory.intrinsic+json": {
              "type": "string"
            },
            "text/plain": [
              "'Hi I am a student'"
            ]
          },
          "metadata": {
            "tags": []
          },
          "execution_count": 5
        }
      ]
    },
    {
      "cell_type": "code",
      "metadata": {
        "id": "58u8-ukFzJo3"
      },
      "source": [
        "s1=\"\"\"Using python to talk about \n",
        "         course \n",
        "                 is a nice\n",
        "way to \n",
        "communicate\"\"\""
      ],
      "execution_count": null,
      "outputs": []
    },
    {
      "cell_type": "code",
      "metadata": {
        "colab": {
          "base_uri": "https://localhost:8080/"
        },
        "id": "st8mHIudzQnI",
        "outputId": "530beae2-078f-4154-8e4c-1899ce43ef26"
      },
      "source": [
        "print(s1)"
      ],
      "execution_count": null,
      "outputs": [
        {
          "output_type": "stream",
          "text": [
            "Using python to talk about \n",
            "course \n",
            "is a nice\n",
            "way to \n",
            "communicate\n"
          ],
          "name": "stdout"
        }
      ]
    },
    {
      "cell_type": "code",
      "metadata": {
        "colab": {
          "base_uri": "https://localhost:8080/"
        },
        "id": "K5H2w5lpzRCw",
        "outputId": "929e30ce-bfdc-43eb-be6d-60684e44d125"
      },
      "source": [
        "#Problem 1\n",
        "\n",
        "stri= \"HEHE\"\n",
        "print(stri)\n",
        "s=\"Hi I am a student\"\n",
        "print(s)\n",
        "s1=\"\"\"Using python to talk about \n",
        "         course \n",
        "                 is a nice\n",
        "way to \n",
        "communicate\"\"\"\n",
        "print(s1)"
      ],
      "execution_count": null,
      "outputs": [
        {
          "output_type": "stream",
          "text": [
            "HEHE\n",
            "Hi I am a student\n",
            "Using python to talk about \n",
            "         course \n",
            "                 is a nice\n",
            "way to \n",
            "communicate\n"
          ],
          "name": "stdout"
        }
      ]
    },
    {
      "cell_type": "code",
      "metadata": {
        "colab": {
          "base_uri": "https://localhost:8080/"
        },
        "id": "sf6iSREtzpz-",
        "outputId": "7ef57360-f0e8-49eb-c80e-d767c721fb5b"
      },
      "source": [
        "#Problem 2\n",
        "\n",
        "\n",
        "#1\n",
        "a=100\n",
        "b=9\n",
        "c=a+b\n",
        "print(c)\n",
        "\n",
        "\n",
        "#2\n",
        "print(a//b)\n",
        "\n",
        "#3\n",
        "print(int(a/b))\n",
        "\n",
        "#4\n",
        "\n",
        "print(a%b)\n",
        "\n",
        "#5\n",
        "print(a**b)\n",
        "\n",
        "#6\n"
      ],
      "execution_count": null,
      "outputs": [
        {
          "output_type": "stream",
          "text": [
            "109\n",
            "11\n",
            "11\n",
            "1\n",
            "1000000000000000000\n"
          ],
          "name": "stdout"
        }
      ]
    },
    {
      "cell_type": "code",
      "metadata": {
        "id": "70HBRb3i0IQr"
      },
      "source": [
        " "
      ],
      "execution_count": null,
      "outputs": []
    },
    {
      "cell_type": "code",
      "metadata": {
        "id": "EwOda4226GCc"
      },
      "source": [
        "import matplotlib.pyplot as plt\n"
      ],
      "execution_count": null,
      "outputs": []
    },
    {
      "cell_type": "code",
      "metadata": {
        "id": "sIJCVRiw6I6x"
      },
      "source": [
        ""
      ],
      "execution_count": null,
      "outputs": []
    },
    {
      "cell_type": "code",
      "metadata": {
        "id": "snYzOZk96NW1"
      },
      "source": [
        "m=0\n",
        "c=0\n",
        "L=0.001\n",
        "epoch=100"
      ],
      "execution_count": null,
      "outputs": []
    },
    {
      "cell_type": "code",
      "metadata": {
        "id": "SitTxXd36Qyl"
      },
      "source": [
        "x=[0.18,1.0,0.92,0.07,0.85,0.99,0.87]"
      ],
      "execution_count": null,
      "outputs": []
    },
    {
      "cell_type": "code",
      "metadata": {
        "colab": {
          "base_uri": "https://localhost:8080/"
        },
        "id": "XBTDa9MJ9Ynr",
        "outputId": "7100df4a-66f5-428e-8afa-5bcd5c299ecf"
      },
      "source": [
        "x"
      ],
      "execution_count": null,
      "outputs": [
        {
          "output_type": "execute_result",
          "data": {
            "text/plain": [
              "[0.18, 1.0, 0.92, 0.07, 0.85, 0.99, 0.87]"
            ]
          },
          "metadata": {
            "tags": []
          },
          "execution_count": 104
        }
      ]
    },
    {
      "cell_type": "code",
      "metadata": {
        "id": "aS5SxOpz9ZP6"
      },
      "source": [
        "y=[109.85,155.72,137.66,76.17,139.75,162.6,151.77]"
      ],
      "execution_count": null,
      "outputs": []
    },
    {
      "cell_type": "code",
      "metadata": {
        "colab": {
          "base_uri": "https://localhost:8080/"
        },
        "id": "_1l84d8k9qkH",
        "outputId": "89b2d960-e2a0-4197-f6b2-54aa1288de45"
      },
      "source": [
        "y"
      ],
      "execution_count": null,
      "outputs": [
        {
          "output_type": "execute_result",
          "data": {
            "text/plain": [
              "[109.85, 155.72, 137.66, 76.17, 139.75, 162.6, 151.77]"
            ]
          },
          "metadata": {
            "tags": []
          },
          "execution_count": 106
        }
      ]
    },
    {
      "cell_type": "code",
      "metadata": {
        "colab": {
          "base_uri": "https://localhost:8080/",
          "height": 283
        },
        "id": "qmwspgxQBK34",
        "outputId": "596deacc-56b6-49df-d1e9-f723eebec7d5"
      },
      "source": [
        "plt.scatter(x,y)"
      ],
      "execution_count": null,
      "outputs": [
        {
          "output_type": "execute_result",
          "data": {
            "text/plain": [
              "<matplotlib.collections.PathCollection at 0x7f5344061c50>"
            ]
          },
          "metadata": {
            "tags": []
          },
          "execution_count": 84
        },
        {
          "output_type": "display_data",
          "data": {
            "image/png": "[encoded data removed]",
            "text/plain": [
              "<Figure size 432x288 with 1 Axes>"
            ]
          },
          "metadata": {
            "tags": [],
            "needs_background": "light"
          }
        }
      ]
    },
    {
      "cell_type": "code",
      "metadata": {
        "id": "JxuXWBsj9tCC"
      },
      "source": [
        "x=[0.18,1.0,0.92,0.07,0.85,0.99,0.87]\n",
        "y=[109.85,155.72,137.66,76.17,139.75,162.6,151.77]\n",
        "y_pred=[0.0,0.0,0.0,0.0,0.0,0.0,0.0]\n",
        "m=0\n",
        "b=0\n",
        "L=0.001\n",
        "epoch=200"
      ],
      "execution_count": null,
      "outputs": []
    },
    {
      "cell_type": "code",
      "metadata": {
        "id": "uWgnr03y-JHB"
      },
      "source": [
        "x=[0.18,1.0,0.92,0.07,0.85,0.99,0.87]\n",
        "y=[109.85,155.72,137.66,76.17,139.75,162.6,151.77]\n",
        "y_pred=[0.0,0.0,0.0,0.0,0.0,0.0]\n",
        "m=0\n",
        "c=0\n",
        "L=0.001\n",
        "epoch=200\n"
      ],
      "execution_count": null,
      "outputs": []
    },
    {
      "cell_type": "code",
      "metadata": {
        "colab": {
          "base_uri": "https://localhost:8080/"
        },
        "id": "uoeoHhDN_1nK",
        "outputId": "2305768d-d356-496a-ce71-f4f76e87c9c6"
      },
      "source": [
        "x"
      ],
      "execution_count": null,
      "outputs": [
        {
          "output_type": "execute_result",
          "data": {
            "text/plain": [
              "[0.18, 1.0, 0.92, 0.07, 0.85, 0.99, 0.87]"
            ]
          },
          "metadata": {
            "tags": []
          },
          "execution_count": 108
        }
      ]
    },
    {
      "cell_type": "code",
      "metadata": {
        "colab": {
          "base_uri": "https://localhost:8080/"
        },
        "id": "SYZkeoAqF3N5",
        "outputId": "2557c671-419d-4773-9162-9000d43d0773"
      },
      "source": [
        "y_pred"
      ],
      "execution_count": null,
      "outputs": [
        {
          "output_type": "execute_result",
          "data": {
            "text/plain": [
              "[0.0, 0.0, 0.0, 0.0, 0.0, 0.0]"
            ]
          },
          "metadata": {
            "tags": []
          },
          "execution_count": 109
        }
      ]
    },
    {
      "cell_type": "code",
      "metadata": {
        "id": "OE9k8JUlJpDs"
      },
      "source": [
        ""
      ],
      "execution_count": null,
      "outputs": []
    },
    {
      "cell_type": "code",
      "metadata": {
        "id": "k4pfPzrvKedg",
        "colab": {
          "base_uri": "https://localhost:8080/"
        },
        "outputId": "c1f160d6-9cff-4aa7-edf1-cecfec6dc58a"
      },
      "source": [
        "X = [0.18,1.0,0.92,0.07,0.85,0.99,0.87]\n",
        "Y = [[109.85],[155.72],[137.66],[76.17],[139.75],[162.6],[151.77]]\n",
        "Y_pred = [[0.0],[0.0],[0.0],[0.0],[0.0],[0.0],[0.0]]\n",
        "\n",
        "\n",
        "\n",
        "for num1, num2 in zip(list1, list2):\n",
        "    print(X)\n",
        "    \n",
        "      \n"
      ],
      "execution_count": null,
      "outputs": [
        {
          "output_type": "stream",
          "text": [
            "[0.18, 1.0, 0.92, 0.07, 0.85, 0.99, 0.87]\n",
            "[0.18, 1.0, 0.92, 0.07, 0.85, 0.99, 0.87]\n",
            "[0.18, 1.0, 0.92, 0.07, 0.85, 0.99, 0.87]\n",
            "[0.18, 1.0, 0.92, 0.07, 0.85, 0.99, 0.87]\n",
            "[0.18, 1.0, 0.92, 0.07, 0.85, 0.99, 0.87]\n",
            "[0.18, 1.0, 0.92, 0.07, 0.85, 0.99, 0.87]\n",
            "[0.18, 1.0, 0.92, 0.07, 0.85, 0.99, 0.87]\n"
          ],
          "name": "stdout"
        }
      ]
    },
    {
      "cell_type": "code",
      "metadata": {
        "id": "sPP8teGKLXvs"
      },
      "source": [
        "import numpy as np"
      ],
      "execution_count": null,
      "outputs": []
    },
    {
      "cell_type": "code",
      "metadata": {
        "id": "sn1GR_3gLaGb"
      },
      "source": [
        "dm=[]\n",
        "for num1,products1 in zip(list2,products):\n",
        "  dm.append(num2 - products1)"
      ],
      "execution_count": null,
      "outputs": []
    },
    {
      "cell_type": "code",
      "metadata": {
        "colab": {
          "base_uri": "https://localhost:8080/"
        },
        "id": "c7PCBVCGNXrD",
        "outputId": "24f18543-491d-415a-f987-5c68c25ade11"
      },
      "source": [
        "dm"
      ],
      "execution_count": null,
      "outputs": [
        {
          "output_type": "execute_result",
          "data": {
            "text/plain": [
              "[]"
            ]
          },
          "metadata": {
            "tags": []
          },
          "execution_count": 119
        }
      ]
    },
    {
      "cell_type": "code",
      "metadata": {
        "id": "Q-nyBA2-OB0d"
      },
      "source": [
        "for i in range(epoch):\n",
        "  y_pred=num1*m+b"
      ],
      "execution_count": null,
      "outputs": []
    },
    {
      "cell_type": "code",
      "metadata": {
        "colab": {
          "base_uri": "https://localhost:8080/"
        },
        "id": "h6Wvr39us0Fr",
        "outputId": "56b98c47-465e-49c7-fd21-dd7a313a29e2"
      },
      "source": [
        "x = np.array([0.18,1.0,0.92,0.07,0.85,0.99,0.87])\n",
        "y = np.array([109.85,155.72,137.66,76.17,139.75,162.6,151.77])\n",
        "y_pred = np.array([0.0,0.0,0.0,0.0,0.0,0.0,0.0])\n",
        "m=0\n",
        "c=0\n",
        "L=0.001\n",
        "n=float(len(x))\n",
        "print(n)"
      ],
      "execution_count": null,
      "outputs": [
        {
          "output_type": "stream",
          "text": [
            "7.0\n"
          ],
          "name": "stdout"
        }
      ]
    },
    {
      "cell_type": "code",
      "metadata": {
        "id": "KN-o56qPFgsR"
      },
      "source": [
        "\n",
        "epoch=200\n",
        "for i in range(epoch): \n",
        "    y_pred=m*x + c  \n",
        "    D_m = (-2/n) * sum(x * (y_pred - y)) \n",
        "    D_c = (-2/n) * sum(y_pred - y)  \n",
        "    m = m - L * D_m  # DELTA-m\n",
        "    c = c - L * D_c  # DELTA-c\n",
        "    "
      ],
      "execution_count": null,
      "outputs": []
    },
    {
      "cell_type": "code",
      "metadata": {
        "colab": {
          "base_uri": "https://localhost:8080/"
        },
        "id": "Pg-VuuwLtCuP",
        "outputId": "bfbb0b44-eac1-45de-96fe-31dfec73510a"
      },
      "source": [
        "\n",
        "print (m,c)"
      ],
      "execution_count": null,
      "outputs": [
        {
          "output_type": "stream",
          "text": [
            "-56.53167796278059 -73.5283603536169\n"
          ],
          "name": "stdout"
        }
      ]
    },
    {
      "cell_type": "code",
      "metadata": {
        "colab": {
          "base_uri": "https://localhost:8080/",
          "height": 136
        },
        "id": "iwB8ATWoFfUp",
        "outputId": "aeb27916-4281-4b5d-c85f-f2bd144161ff"
      },
      "source": [
        "x = [[0.18], [1.0], [0.92], [0.07], [0.85], [0.99], [0.87]]\n",
        "\n",
        "y = [[109.85], [155.72], [137.66], [76.17], [139.75], [162.6], [151.77]]\n",
        "\n",
        "Output:\n",
        "\n",
        "for one iteration\n",
        "\n",
        "w = 7.192735, b =  1.3336  \n",
        "\n",
        "for 200 iterations:\n",
        "\n",
        "w = 120.68872161, b =  41.76663397"
      ],
      "execution_count": null,
      "outputs": [
        {
          "output_type": "error",
          "ename": "SyntaxError",
          "evalue": "ignored",
          "traceback": [
            "\u001b[0;36m  File \u001b[0;32m\"<ipython-input-170-3f2821955b1b>\"\u001b[0;36m, line \u001b[0;32m5\u001b[0m\n\u001b[0;31m    Output:\u001b[0m\n\u001b[0m           ^\u001b[0m\n\u001b[0;31mSyntaxError\u001b[0m\u001b[0;31m:\u001b[0m invalid syntax\n"
          ]
        }
      ]
    },
    {
      "cell_type": "code",
      "metadata": {
        "colab": {
          "base_uri": "https://localhost:8080/"
        },
        "id": "xct2Ku08wh4x",
        "outputId": "926a7ca0-a9ea-4d3c-9cd5-754dd55c05ba"
      },
      "source": [
        "import numpy as np\n",
        "x = np.array([0.18,1.0,0.92,0.07,0.85,0.99,0.87])\n",
        "y = np.array([109.85,155.72,137.66,76.17,139.75,162.6,151.77])\n",
        "y_pred = np.array([0.0,0.0,0.0,0.0,0.0,0.0,0.0])\n",
        "m=0\n",
        "c=0\n",
        "L=0.001\n",
        "n=float(len(x))\n",
        "print(n)"
      ],
      "execution_count": null,
      "outputs": [
        {
          "output_type": "stream",
          "text": [
            "7.0\n"
          ],
          "name": "stdout"
        }
      ]
    },
    {
      "cell_type": "code",
      "metadata": {
        "id": "TcJ4w28ONKwG",
        "colab": {
          "base_uri": "https://localhost:8080/"
        },
        "outputId": "baab7c90-eda3-45e4-d348-91ac406ee47a"
      },
      "source": [
        "import numpy as np\n",
        "x = np.array([0.18,1.0,0.92,0.07,0.85,0.99,0.87])\n",
        "y = np.array([109.85,155.72,137.66,76.17,139.75,162.6,151.77])\n",
        "y_pred = np.array([0.0,0.0,0.0,0.0,0.0,0.0,0.0])\n",
        "m=0\n",
        "c=0\n",
        "L=0.001\n",
        "n=float(len(x))\n",
        "print(n)\n",
        "epoch=200\n",
        "for i in range(epoch): \n",
        "    y_pred=m*x + c  \n",
        "    D_m = sum(x * ( y_pred-y)) /7.0\n",
        "    D_c = sum(y_pred-y) /7.0\n",
        "    m = m - L * D_m  # DELTA-m\n",
        "    c = c - L * D_c  # DELTA-c\n",
        "\n",
        "\n"
      ],
      "execution_count": null,
      "outputs": [
        {
          "output_type": "stream",
          "text": [
            "7.0\n"
          ],
          "name": "stdout"
        }
      ]
    },
    {
      "cell_type": "code",
      "metadata": {
        "colab": {
          "base_uri": "https://localhost:8080/"
        },
        "id": "HZHuMSqFNTwZ",
        "outputId": "0c49095b-d185-4474-fc03-13dabfda7e5d"
      },
      "source": [
        "print(m,c)"
      ],
      "execution_count": null,
      "outputs": [
        {
          "output_type": "stream",
          "text": [
            "17.724810647355827 22.97599012903927\n"
          ],
          "name": "stdout"
        }
      ]
    },
    {
      "cell_type": "code",
      "metadata": {
        "colab": {
          "base_uri": "https://localhost:8080/"
        },
        "id": "1-Hl2_iBNU1U",
        "outputId": "d37f910f-b88c-4ac6-d741-6f4697fc00cd"
      },
      "source": [
        "x1 = np.array([0.18,1.0,0.92,0.07,0.85,0.99,0.87])\n",
        "y1 = np.array([109.85,155.72,137.66,76.17,139.75,162.6,151.77])\n",
        "\n",
        "avg=sum(x1)/7\n",
        "print(avg)"
      ],
      "execution_count": null,
      "outputs": [
        {
          "output_type": "stream",
          "text": [
            "0.6971428571428572\n"
          ],
          "name": "stdout"
        }
      ]
    },
    {
      "cell_type": "code",
      "metadata": {
        "id": "8ttN6aH6PVUl",
        "colab": {
          "base_uri": "https://localhost:8080/",
          "height": 244
        },
        "outputId": "9e321f9c-8efe-4438-ebbc-a3730738c2da"
      },
      "source": [
        "x = [0.18,1.0,0.92,0.07,0.85,0.99,0.87]\n",
        "y = [109.85,155.72,137.66,76.17,139.75,162.6,151.77]\n",
        "y_pred = [0.0,0.0,0.0,0.0,0.0,0.0,0.0]\n",
        "m=0\n",
        "c=0\n",
        "L=0.001\n",
        "n=float(len(x))\n",
        "epoch=200\n",
        "\n",
        "def mult(pred, a):\n",
        "  count=0\n",
        "  for el in pred:\n",
        "    pred[count]=el*a\n",
        "    count++\n",
        "  return pred.copy()\n",
        "\n",
        "def sub(a,b):\n",
        "  for i in range(len(a)):\n",
        "    a[i]=a[i]-b[i]\n",
        "  return a.copy()\n",
        "def add(pred, a):\n",
        "  count=0\n",
        "  for el in pred:\n",
        "    pred[count]=el+a\n",
        "    count++\n",
        "  return pred.copy()\n",
        "   \n",
        "for i in range(epoch): \n",
        "    y_pred=add(mult(x,m), c)\n",
        "    D_m = sum(x * ( y_pred-y)) /7.0\n",
        "    D_c = sum(y_pred-y) /7.0\n",
        "    m = m - L * D_m  # DELTA-m\n",
        "    c = c - L * D_c  # DELTA-c"
      ],
      "execution_count": null,
      "outputs": [
        {
          "output_type": "error",
          "ename": "TypeError",
          "evalue": "ignored",
          "traceback": [
            "\u001b[0;31m---------------------------------------------------------------------------\u001b[0m",
            "\u001b[0;31mTypeError\u001b[0m                                 Traceback (most recent call last)",
            "\u001b[0;32m<ipython-input-71-b857691d22b1>\u001b[0m in \u001b[0;36m<module>\u001b[0;34m()\u001b[0m\n\u001b[1;32m      9\u001b[0m \u001b[0mepoch\u001b[0m\u001b[0;34m=\u001b[0m\u001b[0;36m200\u001b[0m\u001b[0;34m\u001b[0m\u001b[0;34m\u001b[0m\u001b[0m\n\u001b[1;32m     10\u001b[0m \u001b[0;32mfor\u001b[0m \u001b[0mi\u001b[0m \u001b[0;32min\u001b[0m \u001b[0mrange\u001b[0m\u001b[0;34m(\u001b[0m\u001b[0mepoch\u001b[0m\u001b[0;34m)\u001b[0m\u001b[0;34m:\u001b[0m\u001b[0;34m\u001b[0m\u001b[0;34m\u001b[0m\u001b[0m\n\u001b[0;32m---> 11\u001b[0;31m     \u001b[0my_pred\u001b[0m\u001b[0;34m=\u001b[0m\u001b[0mm\u001b[0m\u001b[0;34m*\u001b[0m\u001b[0mx\u001b[0m \u001b[0;34m+\u001b[0m \u001b[0mc\u001b[0m\u001b[0;34m\u001b[0m\u001b[0;34m\u001b[0m\u001b[0m\n\u001b[0m\u001b[1;32m     12\u001b[0m     \u001b[0mD_m\u001b[0m \u001b[0;34m=\u001b[0m \u001b[0msum\u001b[0m\u001b[0;34m(\u001b[0m\u001b[0mx\u001b[0m \u001b[0;34m*\u001b[0m \u001b[0;34m(\u001b[0m \u001b[0my_pred\u001b[0m\u001b[0;34m-\u001b[0m\u001b[0my\u001b[0m\u001b[0;34m)\u001b[0m\u001b[0;34m)\u001b[0m \u001b[0;34m/\u001b[0m\u001b[0;36m7.0\u001b[0m\u001b[0;34m\u001b[0m\u001b[0;34m\u001b[0m\u001b[0m\n\u001b[1;32m     13\u001b[0m     \u001b[0mD_c\u001b[0m \u001b[0;34m=\u001b[0m \u001b[0msum\u001b[0m\u001b[0;34m(\u001b[0m\u001b[0my_pred\u001b[0m\u001b[0;34m-\u001b[0m\u001b[0my\u001b[0m\u001b[0;34m)\u001b[0m \u001b[0;34m/\u001b[0m\u001b[0;36m7.0\u001b[0m\u001b[0;34m\u001b[0m\u001b[0;34m\u001b[0m\u001b[0m\n",
            "\u001b[0;31mTypeError\u001b[0m: can only concatenate list (not \"int\") to list"
          ]
        }
      ]
    },
    {
      "cell_type": "code",
      "metadata": {
        "id": "0cLiS4LnjHmn",
        "colab": {
          "base_uri": "https://localhost:8080/",
          "height": 245
        },
        "outputId": "fbf01bc5-c865-44e5-dc70-6cda26453a67"
      },
      "source": [
        "x = [0.18,1.0,0.92,0.07,0.85,0.99,0.87]\n",
        "y = [109.85,155.72,137.66,76.17,139.75,162.6,151.77]\n",
        "y_pred = [0.0,0.0,0.0,0.0,0.0,0.0,0.0]\n",
        "m=0\n",
        "c=0\n",
        "L=0.001\n",
        "n=float(len(x))\n",
        "epoch=1\n",
        "#dm=[0.0,0.0,0.0,0.0,0.0,0.0,0.0]\n",
        "#dc =[0.0,0.0,0.0,0.0,0.0,0.0,0.0]\n",
        "num=0\n",
        "while(num!=200):\n",
        "  for i in range(len(x)):\n",
        "    y_pred[i]=m*x[i]+c\n",
        "    dm[i]=x[i]*(y_pred[i]-y[i])\n",
        "    dc[i]=y_pred[i]-y[i]\n",
        "  DM=sum(dm)/len(dm)\n",
        "  DC=sum(dc)/len(dc)\n",
        "  m=m-(L*DM)\n",
        "  c=c-(L*DC)\n",
        "  num+=1\n",
        "\n",
        "print(m,c)"
      ],
      "execution_count": null,
      "outputs": [
        {
          "output_type": "error",
          "ename": "NameError",
          "evalue": "ignored",
          "traceback": [
            "\u001b[0;31m---------------------------------------------------------------------------\u001b[0m",
            "\u001b[0;31mNameError\u001b[0m                                 Traceback (most recent call last)",
            "\u001b[0;32m<ipython-input-162-d9e11ae4bc74>\u001b[0m in \u001b[0;36m<module>\u001b[0;34m()\u001b[0m\n\u001b[1;32m     13\u001b[0m   \u001b[0;32mfor\u001b[0m \u001b[0mi\u001b[0m \u001b[0;32min\u001b[0m \u001b[0mrange\u001b[0m\u001b[0;34m(\u001b[0m\u001b[0mlen\u001b[0m\u001b[0;34m(\u001b[0m\u001b[0mx\u001b[0m\u001b[0;34m)\u001b[0m\u001b[0;34m)\u001b[0m\u001b[0;34m:\u001b[0m\u001b[0;34m\u001b[0m\u001b[0;34m\u001b[0m\u001b[0m\n\u001b[1;32m     14\u001b[0m     \u001b[0my_pred\u001b[0m\u001b[0;34m[\u001b[0m\u001b[0mi\u001b[0m\u001b[0;34m]\u001b[0m\u001b[0;34m=\u001b[0m\u001b[0mm\u001b[0m\u001b[0;34m*\u001b[0m\u001b[0mx\u001b[0m\u001b[0;34m[\u001b[0m\u001b[0mi\u001b[0m\u001b[0;34m]\u001b[0m\u001b[0;34m+\u001b[0m\u001b[0mc\u001b[0m\u001b[0;34m\u001b[0m\u001b[0;34m\u001b[0m\u001b[0m\n\u001b[0;32m---> 15\u001b[0;31m     \u001b[0mdm\u001b[0m\u001b[0;34m[\u001b[0m\u001b[0mi\u001b[0m\u001b[0;34m]\u001b[0m\u001b[0;34m=\u001b[0m\u001b[0mx\u001b[0m\u001b[0;34m[\u001b[0m\u001b[0mi\u001b[0m\u001b[0;34m]\u001b[0m\u001b[0;34m*\u001b[0m\u001b[0;34m(\u001b[0m\u001b[0my_pred\u001b[0m\u001b[0;34m[\u001b[0m\u001b[0mi\u001b[0m\u001b[0;34m]\u001b[0m\u001b[0;34m-\u001b[0m\u001b[0my\u001b[0m\u001b[0;34m[\u001b[0m\u001b[0mi\u001b[0m\u001b[0;34m]\u001b[0m\u001b[0;34m)\u001b[0m\u001b[0;34m\u001b[0m\u001b[0;34m\u001b[0m\u001b[0m\n\u001b[0m\u001b[1;32m     16\u001b[0m     \u001b[0mdc\u001b[0m\u001b[0;34m[\u001b[0m\u001b[0mi\u001b[0m\u001b[0;34m]\u001b[0m\u001b[0;34m=\u001b[0m\u001b[0my_pred\u001b[0m\u001b[0;34m[\u001b[0m\u001b[0mi\u001b[0m\u001b[0;34m]\u001b[0m\u001b[0;34m-\u001b[0m\u001b[0my\u001b[0m\u001b[0;34m[\u001b[0m\u001b[0mi\u001b[0m\u001b[0;34m]\u001b[0m\u001b[0;34m\u001b[0m\u001b[0;34m\u001b[0m\u001b[0m\n\u001b[1;32m     17\u001b[0m   \u001b[0mDM\u001b[0m\u001b[0;34m=\u001b[0m\u001b[0msum\u001b[0m\u001b[0;34m(\u001b[0m\u001b[0mdm\u001b[0m\u001b[0;34m)\u001b[0m\u001b[0;34m/\u001b[0m\u001b[0mlen\u001b[0m\u001b[0;34m(\u001b[0m\u001b[0mdm\u001b[0m\u001b[0;34m)\u001b[0m\u001b[0;34m\u001b[0m\u001b[0;34m\u001b[0m\u001b[0m\n",
            "\u001b[0;31mNameError\u001b[0m: name 'dm' is not defined"
          ]
        }
      ]
    },
    {
      "cell_type": "code",
      "metadata": {
        "id": "7ycwTypF4Kjm",
        "colab": {
          "base_uri": "https://localhost:8080/",
          "height": 244
        },
        "outputId": "047911b6-0dd9-4c91-e615-1e7febb05824"
      },
      "source": [
        "m=0\n",
        "c=0\n",
        "L=0.001\n",
        "n=float(len(x))\n",
        "x = [0.18,1.0,0.92,0.07,0.85,0.99,0.87]\n",
        "y = [109.85,155.72,137.66,76.17,139.75,162.6,151.77]\n",
        "dm=[0.0,0.0,0.0,0.0,0.0,0.0,0.0]\n",
        "dc=[0.0,0.0,0.0,0.0,0.0,0.0,0.0]\n",
        "\n",
        "epoch=0\n",
        "while(epoch!=1):\n",
        "  for i in range(len(x)):\n",
        "    y_pred[i]=x[i]*m+c\n",
        "    dm[i]=x[i]*(y_pred[i]-y[i])\n",
        "    dc[i]=y_pred[i]-y[i]\n",
        "  DM=sum(dm)/len(dm)\n",
        "  DC=sum(dc)/len(dc)\n",
        "  m=m-(L*DM)\n",
        "  c=c-(L*DC)\n",
        "  epoch+=1\n",
        "\n",
        "  print(m,c)"
      ],
      "execution_count": null,
      "outputs": [
        {
          "output_type": "error",
          "ename": "NameError",
          "evalue": "ignored",
          "traceback": [
            "\u001b[0;31m---------------------------------------------------------------------------\u001b[0m",
            "\u001b[0;31mNameError\u001b[0m                                 Traceback (most recent call last)",
            "\u001b[0;32m<ipython-input-1-ffbaf73c1bd7>\u001b[0m in \u001b[0;36m<module>\u001b[0;34m()\u001b[0m\n\u001b[1;32m      2\u001b[0m \u001b[0mc\u001b[0m\u001b[0;34m=\u001b[0m\u001b[0;36m0\u001b[0m\u001b[0;34m\u001b[0m\u001b[0;34m\u001b[0m\u001b[0m\n\u001b[1;32m      3\u001b[0m \u001b[0mL\u001b[0m\u001b[0;34m=\u001b[0m\u001b[0;36m0.001\u001b[0m\u001b[0;34m\u001b[0m\u001b[0;34m\u001b[0m\u001b[0m\n\u001b[0;32m----> 4\u001b[0;31m \u001b[0mn\u001b[0m\u001b[0;34m=\u001b[0m\u001b[0mfloat\u001b[0m\u001b[0;34m(\u001b[0m\u001b[0mlen\u001b[0m\u001b[0;34m(\u001b[0m\u001b[0mx\u001b[0m\u001b[0;34m)\u001b[0m\u001b[0;34m)\u001b[0m\u001b[0;34m\u001b[0m\u001b[0;34m\u001b[0m\u001b[0m\n\u001b[0m\u001b[1;32m      5\u001b[0m \u001b[0mx\u001b[0m \u001b[0;34m=\u001b[0m \u001b[0;34m[\u001b[0m\u001b[0;36m0.18\u001b[0m\u001b[0;34m,\u001b[0m\u001b[0;36m1.0\u001b[0m\u001b[0;34m,\u001b[0m\u001b[0;36m0.92\u001b[0m\u001b[0;34m,\u001b[0m\u001b[0;36m0.07\u001b[0m\u001b[0;34m,\u001b[0m\u001b[0;36m0.85\u001b[0m\u001b[0;34m,\u001b[0m\u001b[0;36m0.99\u001b[0m\u001b[0;34m,\u001b[0m\u001b[0;36m0.87\u001b[0m\u001b[0;34m]\u001b[0m\u001b[0;34m\u001b[0m\u001b[0;34m\u001b[0m\u001b[0m\n\u001b[1;32m      6\u001b[0m \u001b[0my\u001b[0m \u001b[0;34m=\u001b[0m \u001b[0;34m[\u001b[0m\u001b[0;36m109.85\u001b[0m\u001b[0;34m,\u001b[0m\u001b[0;36m155.72\u001b[0m\u001b[0;34m,\u001b[0m\u001b[0;36m137.66\u001b[0m\u001b[0;34m,\u001b[0m\u001b[0;36m76.17\u001b[0m\u001b[0;34m,\u001b[0m\u001b[0;36m139.75\u001b[0m\u001b[0;34m,\u001b[0m\u001b[0;36m162.6\u001b[0m\u001b[0;34m,\u001b[0m\u001b[0;36m151.77\u001b[0m\u001b[0;34m]\u001b[0m\u001b[0;34m\u001b[0m\u001b[0;34m\u001b[0m\u001b[0m\n",
            "\u001b[0;31mNameError\u001b[0m: name 'x' is not defined"
          ]
        }
      ]
    },
    {
      "cell_type": "code",
      "metadata": {
        "id": "kYyPp8hzFCDW"
      },
      "source": [
        "print(m,c)"
      ],
      "execution_count": null,
      "outputs": []
    },
    {
      "cell_type": "code",
      "metadata": {
        "id": "suIhMNy5FFSH"
      },
      "source": [
        "import numpy as np\n",
        "X=np.random.randn(10000)"
      ],
      "execution_count": null,
      "outputs": []
    },
    {
      "cell_type": "code",
      "metadata": {
        "colab": {
          "base_uri": "https://localhost:8080/"
        },
        "id": "2tRyPctIHwSp",
        "outputId": "a5112d2b-5013-4ab7-c2ec-a925575889ba"
      },
      "source": [
        "X\n"
      ],
      "execution_count": null,
      "outputs": [
        {
          "output_type": "execute_result",
          "data": {
            "text/plain": [
              "array([-1.13142395, -0.3468023 ,  0.02860004, ..., -1.20469335,\n",
              "       -0.74281775, -0.58677443])"
            ]
          },
          "metadata": {
            "tags": []
          },
          "execution_count": 3
        }
      ]
    },
    {
      "cell_type": "code",
      "metadata": {
        "id": "w7lk_OtmH1_X"
      },
      "source": [
        "import matplotlib.pyplot as plt\n"
      ],
      "execution_count": null,
      "outputs": []
    },
    {
      "cell_type": "code",
      "metadata": {
        "colab": {
          "base_uri": "https://localhost:8080/",
          "height": 373
        },
        "id": "8oP8z9cpH4FI",
        "outputId": "96d5ed79-4cd3-4894-a547-f94f09fc9708"
      },
      "source": [
        "plt.hist(X)"
      ],
      "execution_count": null,
      "outputs": [
        {
          "output_type": "execute_result",
          "data": {
            "text/plain": [
              "(array([  35.,  147.,  692., 1801., 2790., 2574., 1459.,  427.,   67.,\n",
              "           8.]),\n",
              " array([-3.60257135, -2.85581414, -2.10905692, -1.36229971, -0.61554249,\n",
              "         0.13121472,  0.87797194,  1.62472916,  2.37148637,  3.11824359,\n",
              "         3.8650008 ]),\n",
              " <a list of 10 Patch objects>)"
            ]
          },
          "metadata": {
            "tags": []
          },
          "execution_count": 5
        },
        {
          "output_type": "display_data",
          "data": {
            "image/png": "[encoded data removed]",
            "text/plain": [
              "<Figure size 432x288 with 1 Axes>"
            ]
          },
          "metadata": {
            "tags": [],
            "needs_background": "light"
          }
        }
      ]
    },
    {
      "cell_type": "code",
      "metadata": {
        "colab": {
          "base_uri": "https://localhost:8080/",
          "height": 172
        },
        "id": "BCHwvY3-H5zJ",
        "outputId": "76b14724-2d0e-4795-a8f6-a79872e161d8"
      },
      "source": [
        "plt.hist(X,bins=50);"
      ],
      "execution_count": null,
      "outputs": [
        {
          "output_type": "error",
          "ename": "NameError",
          "evalue": "ignored",
          "traceback": [
            "\u001b[0;31m---------------------------------------------------------------------------\u001b[0m",
            "\u001b[0;31mNameError\u001b[0m                                 Traceback (most recent call last)",
            "\u001b[0;32m<ipython-input-1-ea73f7197192>\u001b[0m in \u001b[0;36m<module>\u001b[0;34m()\u001b[0m\n\u001b[0;32m----> 1\u001b[0;31m \u001b[0mplt\u001b[0m\u001b[0;34m.\u001b[0m\u001b[0mhist\u001b[0m\u001b[0;34m(\u001b[0m\u001b[0mX\u001b[0m\u001b[0;34m,\u001b[0m\u001b[0mbins\u001b[0m\u001b[0;34m=\u001b[0m\u001b[0;36m50\u001b[0m\u001b[0;34m)\u001b[0m\u001b[0;34m;\u001b[0m\u001b[0;34m\u001b[0m\u001b[0;34m\u001b[0m\u001b[0m\n\u001b[0m",
            "\u001b[0;31mNameError\u001b[0m: name 'plt' is not defined"
          ]
        }
      ]
    },
    {
      "cell_type": "code",
      "metadata": {
        "id": "aFy6tj4YINlT"
      },
      "source": [
        "def isPalindrome(x): \n",
        "  if( x<0):\n",
        "    return False\n",
        "  org=x\n",
        "  rev=0\n",
        "  while(x>0):\n",
        "   rev=rev*10+(x%10)\n",
        "   x=x//10\n",
        "  if(rev!=org):\n",
        "    return False\n",
        "  else: \n",
        "    return True\n",
        "  \n",
        "  \n",
        "\n"
      ],
      "execution_count": null,
      "outputs": []
    },
    {
      "cell_type": "code",
      "metadata": {
        "id": "nKTdmE4nS99J",
        "colab": {
          "base_uri": "https://localhost:8080/"
        },
        "outputId": "86afa418-3826-4604-b783-85536b1dd30f"
      },
      "source": [
        "isPalindrome(12)"
      ],
      "execution_count": null,
      "outputs": [
        {
          "output_type": "execute_result",
          "data": {
            "text/plain": [
              "False"
            ]
          },
          "metadata": {
            "tags": []
          },
          "execution_count": 161
        }
      ]
    },
    {
      "cell_type": "code",
      "metadata": {
        "id": "v3ITYchXJe8X"
      },
      "source": [
        "\n",
        "\n"
      ],
      "execution_count": null,
      "outputs": []
    },
    {
      "cell_type": "code",
      "metadata": {
        "id": "qF9BqCNh_9MC"
      },
      "source": [
        ""
      ],
      "execution_count": null,
      "outputs": []
    },
    {
      "cell_type": "code",
      "metadata": {
        "id": "zu67vXPGZtlj"
      },
      "source": [
        ""
      ],
      "execution_count": null,
      "outputs": []
    },
    {
      "cell_type": "code",
      "metadata": {
        "id": "i-S9pVWgZt98"
      },
      "source": [
        ""
      ],
      "execution_count": null,
      "outputs": []
    },
    {
      "cell_type": "code",
      "metadata": {
        "id": "1I3ueCtvZzCQ"
      },
      "source": [
        ""
      ],
      "execution_count": null,
      "outputs": []
    },
    {
      "cell_type": "code",
      "metadata": {
        "id": "gMDLUGR9aA8I"
      },
      "source": [
        ""
      ],
      "execution_count": null,
      "outputs": []
    },
    {
      "cell_type": "code",
      "metadata": {
        "id": "P5GHLpdiaZQX"
      },
      "source": [
        "\n"
      ],
      "execution_count": null,
      "outputs": []
    },
    {
      "cell_type": "code",
      "metadata": {
        "id": "wwVK7zugcOmV"
      },
      "source": [
        ""
      ],
      "execution_count": null,
      "outputs": []
    },
    {
      "cell_type": "code",
      "metadata": {
        "id": "dm1rCWIxcR1Y"
      },
      "source": [
        ""
      ],
      "execution_count": null,
      "outputs": []
    },
    {
      "cell_type": "code",
      "metadata": {
        "id": "_U4MdKnYdlg4"
      },
      "source": [
        "\n"
      ],
      "execution_count": null,
      "outputs": []
    },
    {
      "cell_type": "code",
      "metadata": {
        "id": "ujf8Licgdm10"
      },
      "source": [
        ""
      ],
      "execution_count": null,
      "outputs": []
    },
    {
      "cell_type": "code",
      "metadata": {
        "id": "AHp4GUDkq9Bl",
        "colab": {
          "base_uri": "https://localhost:8080/"
        },
        "outputId": "40710e56-a543-4b0d-cad0-755baf739f30"
      },
      "source": [
        "top_k_words1(\"i love python, he love coding python; the course is about python..python python\",2)"
      ],
      "execution_count": null,
      "outputs": [
        {
          "output_type": "stream",
          "text": [
            "python 3\n",
            "love 2\n",
            "i 1\n",
            "he 1\n",
            "coding 1\n",
            "the 1\n",
            "course 1\n",
            "is 1\n",
            "about 1\n"
          ],
          "name": "stdout"
        }
      ]
    },
    {
      "cell_type": "code",
      "metadata": {
        "id": "RV7aVDPXQ6ME"
      },
      "source": [
        ""
      ],
      "execution_count": null,
      "outputs": []
    },
    {
      "cell_type": "code",
      "metadata": {
        "id": "FOldDPleRmjk"
      },
      "source": [
        ""
      ],
      "execution_count": null,
      "outputs": []
    },
    {
      "cell_type": "code",
      "metadata": {
        "id": "lCh9vyaWeUaU"
      },
      "source": [
        ""
      ],
      "execution_count": null,
      "outputs": []
    },
    {
      "cell_type": "code",
      "metadata": {
        "id": "lohVuAqmhYeM"
      },
      "source": [
        ""
      ],
      "execution_count": null,
      "outputs": []
    },
    {
      "cell_type": "code",
      "metadata": {
        "id": "zEjW6kelnNFx"
      },
      "source": [
        "def gradient_descent(x,y,m,c,epoch):\n",
        "  n=float(len(x))\n",
        "  dm=[0.0,0.0,0.0,0.0,0.0,0.0,0.0]\n",
        "  dc=[0.0,0.0,0.0,0.0,0.0,0.0,0.0]\n",
        "  y_pred=[0.0,0.0,0.0,0.0,0.0,0.0,0.0]\n",
        "\n",
        "  while(epoch!=0):\n",
        "    for i in range(len(x)):\n",
        "      y_pred[i]=x[i]*m+c\n",
        "      dm[i]=x[i]*(y_pred[i]-y[i])\n",
        "      dc[i]=y_pred[i]-y[i]\n",
        "    DM=sum(dm)/len(dm)\n",
        "    DC=sum(dc)/len(dc)\n",
        "    m=m-(L*DM)\n",
        "    c=c-(L*DC)\n",
        "    epoch-=1\n",
        "  return m , c"
      ],
      "execution_count": null,
      "outputs": []
    },
    {
      "cell_type": "code",
      "metadata": {
        "colab": {
          "base_uri": "https://localhost:8080/"
        },
        "id": "1FmsrgP9B6xV",
        "outputId": "51b746af-2f79-405b-f2f9-95ac221002af"
      },
      "source": [
        "m=0\n",
        "c=0\n",
        "L=0.001\n",
        "x = [0.18,1.0,0.92,0.07,0.85,0.99,0.87]\n",
        "y = [109.85,155.72,137.66,76.17,139.75,162.6,151.77]\n",
        "epoch=3000\n",
        "print(gradient_descent(x,y,m,c,epoch))\n"
      ],
      "execution_count": null,
      "outputs": [
        {
          "output_type": "stream",
          "text": [
            "(67.42648874428104, 85.32444456113602)\n"
          ],
          "name": "stdout"
        }
      ]
    },
    {
      "cell_type": "code",
      "metadata": {
        "colab": {
          "base_uri": "https://localhost:8080/"
        },
        "id": "2DqEo0i2CMq0",
        "outputId": "e8468961-9746-4048-8c49-6d3c579e6f70"
      },
      "source": [
        " print(\"17.724810647355827, 22.97599012903927\")   \n",
        "    \n",
        "print(\"35.97890301691016, 46.54235227399102\")      \n",
        "print(\"52.816639894324545, 68.05971340716786\")    \n",
        "print(\"64.56549666509812, 82.46678636085996\")  \n",
        "  \n",
        "print(\"67.42648874428104, 85.32444456113602\")    "
      ],
      "execution_count": null,
      "outputs": [
        {
          "output_type": "stream",
          "text": [
            "17.724810647355827, 22.97599012903927\n",
            "35.97890301691016, 46.54235227399102\n",
            "52.816639894324545, 68.05971340716786\n",
            "64.56549666509812, 82.46678636085996\n",
            "67.42648874428104, 85.32444456113602\n"
          ],
          "name": "stdout"
        }
      ]
    },
    {
      "cell_type": "code",
      "metadata": {
        "id": "iTtvC8RVIG23",
        "colab": {
          "base_uri": "https://localhost:8080/"
        },
        "outputId": "9cc0ce15-0e9f-457e-d068-7bad83816966"
      },
      "source": [
        "# Notice: do not change these function name\n",
        "\n",
        "#Check if the number is a palindrome or not\n",
        "def is_palindrome(x):\n",
        "    # add your code here\n",
        "    if(x<0):\n",
        "        return False\n",
        "    org=x\n",
        "    rev=0\n",
        "    while(x>0):\n",
        "        rev=rev*10+(x%10)\n",
        "        x=x//10\n",
        "    if(rev!=org):\n",
        "        return False\n",
        "    else: \n",
        "        return True \n",
        "\n",
        "#Check if one string is an anagram of the other    \n",
        "def is_anagrams(s, t):\n",
        "    # add your code here\n",
        "    d1={}\n",
        "    if len(s) != len(t):\n",
        "        return False;\n",
        "    \n",
        "    for x in s:\n",
        "        if x not in d1:\n",
        "            d1[x]=1\n",
        "        else:\n",
        "            d1[x]=d1[x]+1\n",
        "    \n",
        "    for y in t:\n",
        "        if y not in d1:\n",
        "            return False;\n",
        "        else:\n",
        "            if d1[y]==0:\n",
        "                return False\n",
        "            d1[y]=d1[y]-1\n",
        "       \n",
        "    return True;\n",
        "\n",
        "#Return the top k most frequent words\n",
        "def top_k_words(s, k):\n",
        "    # add your code here\n",
        "    str1=\"!?',;.\"  \n",
        "    output = {}\n",
        "    for char in str1:\n",
        "        s=s.replace(char,\"\")\n",
        "\n",
        "    for word in s.split():\n",
        "        if word not in output.keys():\n",
        "            output[word] = 0\n",
        "        output[word] += 1\n",
        "    sorted_dict=sorted(output,key=output.get,reverse=True)\n",
        "      #print(sorted_dict) \n",
        "    list=[]\n",
        "\n",
        "    for key in sorted_dict:\n",
        "        list.append(key)\n",
        "    return list[:k]\n",
        "   \n",
        "#Calculate the Gradient descent\n",
        "def gradient_descent(x, y, m, c, epochs, L=0.001):\n",
        "    # add your code here\n",
        "    n=float(len(x))\n",
        "    dm=[0.0,0.0,0.0,0.0,0.0,0.0,0.0]\n",
        "    dc=[0.0,0.0,0.0,0.0,0.0,0.0,0.0]\n",
        "    y_pred=[0.0,0.0,0.0,0.0,0.0,0.0,0.0]\n",
        "\n",
        "    while(epochs!=0):\n",
        "        for i in range(len(x)):\n",
        "            y_pred[i]=x[i]*m+c\n",
        "            dm[i]=x[i]*(y_pred[i]-y[i])\n",
        "            dc[i]=y_pred[i]-y[i]\n",
        "        DM=sum(dm)/len(dm)\n",
        "        DC=sum(dc)/len(dc)\n",
        "        m=m-(L*DM)\n",
        "        c=c-(L*DC)\n",
        "        epochs-=1\n",
        "    return m , c\n",
        "#\n",
        "\n",
        "if __name__ == \"__main__\":  \n",
        "    \n",
        "    # Test Question 1\n",
        "    \n",
        "    print(\"\\nQ1\")\n",
        "    q1_test1 = 121\n",
        "    q1_test2 = -121\n",
        "    q1_test3 = 0\n",
        "    q1_answer1 = is_palindrome(q1_test1)\n",
        "    q1_answer2 = is_palindrome(q1_test2)\n",
        "    q1_answer3 = is_palindrome(q1_test3)\n",
        "    print(q1_answer1 )\n",
        "    print(\"right answer: True\")\n",
        "    print(\"--------------\")\n",
        "    print(q1_answer2)\n",
        "    print(\"right answer: False\")\n",
        "    print(\"--------------\")\n",
        "    print(q1_answer3)\n",
        "    print(\"right answer: True\")\n",
        "\n",
        "    \n",
        "    print(\"\\nQ2\")\n",
        "    q2_test1_s = \"anagram\"\n",
        "    q2_test1_t = \"nagaram\"\n",
        "    q2_answer1 =  is_anagrams(q2_test1_s, q2_test1_t)\n",
        "    print(q2_answer1)\n",
        "    print(\"right answer: True\")\n",
        "\n",
        "    print(\"--------------\")\n",
        "    q2_test2_s = \"python\"\n",
        "    q2_test2_t = \"py\"\n",
        "    q2_answer2 =  is_anagrams(q2_test2_s, q2_test2_t)\n",
        "    print(q2_answer2)\n",
        "    print(\"right answer: False\")\n",
        "    print(\"--------------\")\n",
        "\n",
        "    # test question 3\n",
        "    print(\"\\nQ3\")\n",
        "    q3_test1_s = \"   i love python, he    love coding python. the course is about python. \"\n",
        "    q3_test1_k = 2\n",
        "    q3_answer = top_k_words(q3_test1_s, q3_test1_k)\n",
        "    print(q3_answer)\n",
        "    print(\"right: answer:\")\n",
        "    print(\"['python', 'love']\")\n",
        "\n",
        "    print (\"\\nQ4\")\n",
        "\n",
        "    x = x = [0.18,1.0,0.92,0.07,0.85,0.99,0.87]\n",
        "    y = [109.85, 155.72, 137.66, 76.17, 139.75, 162.6, 151.77]\n",
        "    m = 0\n",
        "    c = 0\n",
        "    q4_epochs200 = 200\n",
        "    q4_epochs500 = 500\n",
        "    q4_epochs1000 = 1000\n",
        "    q4_epochs2000 = 2000\n",
        "    q4_epochs3000 = 3000\n",
        "    q4_answer1 = gradient_descent(x,y,m,c,q4_epochs200)\n",
        "    q4_answer2 = gradient_descent(x,y,m,c,q4_epochs500)\n",
        "    q4_answer3 = gradient_descent(x,y,m,c,q4_epochs1000)\n",
        "    q4_answer4 = gradient_descent(x,y,m,c,q4_epochs2000)\n",
        "    q4_answer5 = gradient_descent(x,y,m,c,q4_epochs3000)\n",
        "    print(q4_answer1)\n",
        "    print(\"right answer:\")\n",
        "    print(\"17.724810647355827, 22.97599012903927\")\n",
        "    print(\"--------------\")\n",
        "    print(q4_answer2)\n",
        "    print(\"right answer:\")\n",
        "    print(\"35.97890301691016, 46.54235227399102\")\n",
        "    print(\"--------------\")\n",
        "    print(q4_answer3)\n",
        "    print(\"right answer:\")\n",
        "    print(\"52.816639894324545, 68.05971340716786\")\n",
        "    print(\"--------------\")\n",
        "    print(q4_answer4)\n",
        "    print(\"right answer:\")\n",
        "    print(\"64.56549666509812, 82.46678636085996\")\n",
        "    print(\"--------------\")\n",
        "    print(q4_answer5)\n",
        "    print(\"right answer:\")\n",
        "    print(\"67.42648874428104, 85.32444456113602\")\n",
        "    print(\"--------------\")"
      ],
      "execution_count": null,
      "outputs": [
        {
          "output_type": "stream",
          "text": [
            "\n",
            "Q1\n",
            "True\n",
            "right answer: True\n",
            "--------------\n",
            "False\n",
            "right answer: False\n",
            "--------------\n",
            "True\n",
            "right answer: True\n",
            "\n",
            "Q2\n",
            "True\n",
            "right answer: True\n",
            "--------------\n",
            "False\n",
            "right answer: False\n",
            "--------------\n",
            "\n",
            "Q3\n",
            "['python', 'love']\n",
            "right: answer:\n",
            "['python', 'love']\n",
            "\n",
            "Q4\n",
            "(17.724810647355827, 22.97599012903927)\n",
            "right answer:\n",
            "17.724810647355827, 22.97599012903927\n",
            "--------------\n",
            "(35.97890301691016, 46.54235227399102)\n",
            "right answer:\n",
            "35.97890301691016, 46.54235227399102\n",
            "--------------\n",
            "(52.816639894324545, 68.05971340716786)\n",
            "right answer:\n",
            "52.816639894324545, 68.05971340716786\n",
            "--------------\n",
            "(64.56549666509812, 82.46678636085996)\n",
            "right answer:\n",
            "64.56549666509812, 82.46678636085996\n",
            "--------------\n",
            "(67.42648874428104, 85.32444456113602)\n",
            "right answer:\n",
            "67.42648874428104, 85.32444456113602\n",
            "--------------\n"
          ],
          "name": "stdout"
        }
      ]
    },
    {
      "cell_type": "code",
      "metadata": {
        "id": "PINmFLM8pMv3",
        "colab": {
          "base_uri": "https://localhost:8080/"
        },
        "outputId": "f4973b40-e749-43b8-b464-bfe67f8f1977"
      },
      "source": [
        "# Notice: do not change these function name\n",
        "\n",
        "\n",
        "#Check if the number is a palindrome or not\n",
        "def is_palindrome(x):\n",
        "    # add your code here\n",
        "    if(x<0):\n",
        "        return False\n",
        "    org=x\n",
        "    rev=0\n",
        "    while(x>0):\n",
        "        rev=rev*10+(x%10)\n",
        "        x=x//10\n",
        "    if(rev!=org):\n",
        "        return False\n",
        "    else: \n",
        "        return True \n",
        "\n",
        "#Check if one string is an anagram of the other    \n",
        "def is_anagrams(s, t):\n",
        "    # add your code here\n",
        "    d1={}\n",
        "    if len(s) != len(t):\n",
        "        return False;\n",
        "    \n",
        "    for x in s:\n",
        "        if x not in d1:\n",
        "            d1[x]=1\n",
        "        else:\n",
        "            d1[x]=d1[x]+1\n",
        "    \n",
        "    for y in t:\n",
        "        if y not in d1:\n",
        "            return False;\n",
        "        else:\n",
        "            if d1[y]==0:\n",
        "                return False\n",
        "            d1[y]=d1[y]-1\n",
        "       \n",
        "    return True;\n",
        "\n",
        "#Return the top k most frequent words\n",
        "def top_k_words(s, k): \n",
        "    # add your code here\n",
        "    str1=\"!?',;.\"  \n",
        "    output = {}\n",
        "    list=[]\n",
        "    for char in str1:\n",
        "        s=s.replace(char,\"\")\n",
        "\n",
        "    for word in s.split():\n",
        "        if word not in output.keys():\n",
        "            output[word] = 1\n",
        "        else:\n",
        "            output[word] += 1\n",
        "    sorted_dict=sorted(output, key=lambda word: (-output[word], word))\n",
        "\n",
        "    for key in sorted_dict:\n",
        "        list.append(key)\n",
        "    return list[:k]\n",
        "   \n",
        "#Calculate the Gradient descent\n",
        "def gradient_descent(x, y, m, c, epochs, L=0.001):\n",
        "    # add your code here\n",
        "    n=len(x)\n",
        "    dm=[]\n",
        "    dc=[]\n",
        "    y_pred=[]\n",
        "    x1=[]\n",
        "    for i in range(n):\n",
        "        dm.append(0.0)\n",
        "        dc.append(0.0)\n",
        "        y_pred.append(0.0)\n",
        "        x1.append(x[i][0])\n",
        "\n",
        "    while(epochs!=0):\n",
        "        for i in range(len(x1)):\n",
        "            y_pred[i]=x1[i]*m+c\n",
        "            dm[i]=x1[i]*(y_pred[i]-y[i])\n",
        "            dc[i]=y_pred[i]-y[i]\n",
        "        DM=sum(dm)/len(dm)\n",
        "        DC=sum(dc)/len(dc)\n",
        "        m=m-(L*DM)\n",
        "        c=c-(L*DC)\n",
        "        epochs-=1\n",
        "    \n",
        "    return m , c\n",
        "#\n",
        "\n",
        "if __name__ == \"__main__\": \n",
        "    \n",
        "    # Test Question 1\n",
        "    \n",
        "    print(\"\\nQ1\")\n",
        "    q1_test1 = 121\n",
        "    q1_test2 = -121\n",
        "    q1_test3 = 0\n",
        "    q1_answer1 = is_palindrome(q1_test1)\n",
        "    q1_answer2 = is_palindrome(q1_test2)\n",
        "    q1_answer3 = is_palindrome(q1_test3)\n",
        "    print(q1_answer1 )\n",
        "    print(\"right answer: True\")\n",
        "    print(\"--------------\")\n",
        "    print(q1_answer2)\n",
        "    print(\"right answer: False\")\n",
        "    print(\"--------------\")\n",
        "    print(q1_answer3)\n",
        "    print(\"right answer: True\")\n",
        "\n",
        "    \n",
        "    print(\"\\nQ2\")\n",
        "    q2_test1_s = \"anagram\"\n",
        "    q2_test1_t = \"nagaram\"\n",
        "    q2_answer1 =  is_anagrams(q2_test1_s, q2_test1_t)\n",
        "    print(q2_answer1)\n",
        "    print(\"right answer: True\")\n",
        "\n",
        "    print(\"--------------\")\n",
        "    q2_test2_s = \"python\"\n",
        "    q2_test2_t = \"py\"\n",
        "    q2_answer2 =  is_anagrams(q2_test2_s, q2_test2_t)\n",
        "    print(q2_answer2)\n",
        "    print(\"right answer: False\")\n",
        "    print(\"--------------\")\n",
        "\n",
        "    # test question 3\n",
        "    print(\"\\nQ3\")\n",
        "    q3_test1_s = \"   i love python, he    love coding python. the course is about python. \"\n",
        "    q3_test1_k = 2\n",
        "    q3_answer = top_k_words(q3_test1_s, q3_test1_k)\n",
        "    print(q3_answer)\n",
        "    print(\"right: answer:\")\n",
        "    print(\"['python', 'love']\")\n",
        "\n",
        "    print (\"\\nQ4\")\n",
        "\n",
        "    x = x = [[0.18],[1.0],[0.92],[0.07],[0.85],[0.99],[0.87]]\n",
        "    y = [109.85, 155.72, 137.66, 76.17, 139.75, 162.6, 151.77]\n",
        "    m = 0\n",
        "    c = 0\n",
        "    q4_epochs200 = 200\n",
        "    q4_epochs500 = 500\n",
        "    q4_epochs1000 = 1000\n",
        "    q4_epochs2000 = 2000\n",
        "    q4_epochs3000 = 3000\n",
        "    q4_answer1 = gradient_descent(x,y,m,c,q4_epochs200)\n",
        "    q4_answer2 = gradient_descent(x,y,m,c,q4_epochs500)\n",
        "    q4_answer3 = gradient_descent(x,y,m,c,q4_epochs1000)\n",
        "    q4_answer4 = gradient_descent(x,y,m,c,q4_epochs2000)\n",
        "    q4_answer5 = gradient_descent(x,y,m,c,q4_epochs3000)\n",
        "    print(q4_answer1)\n",
        "    print(\"right answer:\")\n",
        "    print(\"17.724810647355827, 22.97599012903927\")\n",
        "    print(\"--------------\")\n",
        "    print(q4_answer2)\n",
        "    print(\"right answer:\")\n",
        "    print(\"35.97890301691016, 46.54235227399102\")\n",
        "    print(\"--------------\")\n",
        "    print(q4_answer3)\n",
        "    print(\"right answer:\")\n",
        "    print(\"52.816639894324545, 68.05971340716786\")\n",
        "    print(\"--------------\")\n",
        "    print(q4_answer4)\n",
        "    print(\"right answer:\")\n",
        "    print(\"64.56549666509812, 82.46678636085996\")\n",
        "    print(\"--------------\")\n",
        "    print(q4_answer5)\n",
        "    print(\"right answer:\")\n",
        "    print(\"67.42648874428104, 85.32444456113602\")\n",
        "    print(\"--------------\")"
      ],
      "execution_count": null,
      "outputs": [
        {
          "output_type": "stream",
          "text": [
            "\n",
            "Q1\n",
            "True\n",
            "right answer: True\n",
            "--------------\n",
            "False\n",
            "right answer: False\n",
            "--------------\n",
            "True\n",
            "right answer: True\n",
            "\n",
            "Q2\n",
            "True\n",
            "right answer: True\n",
            "--------------\n",
            "False\n",
            "right answer: False\n",
            "--------------\n",
            "\n",
            "Q3\n",
            "['python', 'love']\n",
            "right: answer:\n",
            "['python', 'love']\n",
            "\n",
            "Q4\n",
            "(17.724810647355827, 22.97599012903927)\n",
            "right answer:\n",
            "17.724810647355827, 22.97599012903927\n",
            "--------------\n",
            "(35.97890301691016, 46.54235227399102)\n",
            "right answer:\n",
            "35.97890301691016, 46.54235227399102\n",
            "--------------\n",
            "(52.816639894324545, 68.05971340716786)\n",
            "right answer:\n",
            "52.816639894324545, 68.05971340716786\n",
            "--------------\n",
            "(64.56549666509812, 82.46678636085996)\n",
            "right answer:\n",
            "64.56549666509812, 82.46678636085996\n",
            "--------------\n",
            "(67.42648874428104, 85.32444456113602)\n",
            "right answer:\n",
            "67.42648874428104, 85.32444456113602\n",
            "--------------\n"
          ],
          "name": "stdout"
        }
      ]
    },
    {
      "cell_type": "code",
      "metadata": {
        "id": "PNdKhztrCqDT"
      },
      "source": [
        "from PIL import Image\n",
        "import numpy as np"
      ],
      "execution_count": null,
      "outputs": []
    },
    {
      "cell_type": "code",
      "metadata": {
        "colab": {
          "base_uri": "https://localhost:8080/"
        },
        "id": "DoFZjXIwrFcl",
        "outputId": "e7b3bdb9-462d-4700-e119-66b019f9dcf8"
      },
      "source": [
        "!wget https://raw.githubusercontent.com/lazyprogrammer/machine_learning_examples/master/cnn_class/lena.png"
      ],
      "execution_count": null,
      "outputs": [
        {
          "output_type": "stream",
          "text": [
            "--2021-03-13 18:27:09--  https://raw.githubusercontent.com/lazyprogrammer/machine_learning_examples/master/cnn_class/lena.png\n",
            "Resolving raw.githubusercontent.com (raw.githubusercontent.com)... 185.199.108.133, 185.199.109.133, 185.199.110.133, ...\n",
            "Connecting to raw.githubusercontent.com (raw.githubusercontent.com)|185.199.108.133|:443... connected.\n",
            "HTTP request sent, awaiting response... 200 OK\n",
            "Length: 473831 (463K) [image/png]\n",
            "Saving to: ‘lena.png.3’\n",
            "\n",
            "lena.png.3          100%[===================>] 462.73K  --.-KB/s    in 0.04s   \n",
            "\n",
            "2021-03-13 18:27:09 (12.7 MB/s) - ‘lena.png.3’ saved [473831/473831]\n",
            "\n"
          ],
          "name": "stdout"
        }
      ]
    },
    {
      "cell_type": "code",
      "metadata": {
        "id": "KDpAVXubo8Cp"
      },
      "source": [
        "from PIL import Image"
      ],
      "execution_count": null,
      "outputs": []
    },
    {
      "cell_type": "code",
      "metadata": {
        "id": "nkA0JcXJrLAZ"
      },
      "source": [
        "im=Image.open('lena.png.3')"
      ],
      "execution_count": null,
      "outputs": []
    },
    {
      "cell_type": "code",
      "metadata": {
        "colab": {
          "base_uri": "https://localhost:8080/"
        },
        "id": "rIbl-JIzzj7W",
        "outputId": "a3063fe8-3891-418e-91c4-a8ac8fb191de"
      },
      "source": [
        "type(im)"
      ],
      "execution_count": null,
      "outputs": [
        {
          "output_type": "execute_result",
          "data": {
            "text/plain": [
              "PIL.PngImagePlugin.PngImageFile"
            ]
          },
          "metadata": {
            "tags": []
          },
          "execution_count": 22
        }
      ]
    },
    {
      "cell_type": "code",
      "metadata": {
        "id": "dhcVlFbW3QEt"
      },
      "source": [
        "type(im)\n",
        "arr=np.array(im)"
      ],
      "execution_count": null,
      "outputs": []
    },
    {
      "cell_type": "code",
      "metadata": {
        "colab": {
          "base_uri": "https://localhost:8080/"
        },
        "id": "z6bPsNoT3bxR",
        "outputId": "4c48ecfa-cb97-452d-d660-e388e786518e"
      },
      "source": [
        "arr"
      ],
      "execution_count": null,
      "outputs": [
        {
          "output_type": "execute_result",
          "data": {
            "text/plain": [
              "array([[[226, 137, 125],\n",
              "        [226, 137, 125],\n",
              "        [223, 137, 133],\n",
              "        ...,\n",
              "        [230, 148, 122],\n",
              "        [221, 130, 110],\n",
              "        [200,  99,  90]],\n",
              "\n",
              "       [[226, 137, 125],\n",
              "        [226, 137, 125],\n",
              "        [223, 137, 133],\n",
              "        ...,\n",
              "        [230, 148, 122],\n",
              "        [221, 130, 110],\n",
              "        [200,  99,  90]],\n",
              "\n",
              "       [[226, 137, 125],\n",
              "        [226, 137, 125],\n",
              "        [223, 137, 133],\n",
              "        ...,\n",
              "        [230, 148, 122],\n",
              "        [221, 130, 110],\n",
              "        [200,  99,  90]],\n",
              "\n",
              "       ...,\n",
              "\n",
              "       [[ 84,  18,  60],\n",
              "        [ 84,  18,  60],\n",
              "        [ 92,  27,  58],\n",
              "        ...,\n",
              "        [173,  73,  84],\n",
              "        [172,  68,  76],\n",
              "        [177,  62,  79]],\n",
              "\n",
              "       [[ 82,  22,  57],\n",
              "        [ 82,  22,  57],\n",
              "        [ 96,  32,  62],\n",
              "        ...,\n",
              "        [179,  70,  79],\n",
              "        [181,  71,  81],\n",
              "        [185,  74,  81]],\n",
              "\n",
              "       [[ 82,  22,  57],\n",
              "        [ 82,  22,  57],\n",
              "        [ 96,  32,  62],\n",
              "        ...,\n",
              "        [179,  70,  79],\n",
              "        [181,  71,  81],\n",
              "        [185,  74,  81]]], dtype=uint8)"
            ]
          },
          "metadata": {
            "tags": []
          },
          "execution_count": 26
        }
      ]
    },
    {
      "cell_type": "code",
      "metadata": {
        "colab": {
          "base_uri": "https://localhost:8080/"
        },
        "id": "zN5WNfh13m-Y",
        "outputId": "4342fbc4-e441-4fb4-dc55-2dc7d22376f7"
      },
      "source": [
        "arr.shape"
      ],
      "execution_count": null,
      "outputs": [
        {
          "output_type": "execute_result",
          "data": {
            "text/plain": [
              "(512, 512, 3)"
            ]
          },
          "metadata": {
            "tags": []
          },
          "execution_count": 28
        }
      ]
    },
    {
      "cell_type": "code",
      "metadata": {
        "colab": {
          "base_uri": "https://localhost:8080/",
          "height": 287
        },
        "id": "5Y6CZbFYBQtt",
        "outputId": "8dda3c94-26df-41b2-9b9a-69e70fd833fa"
      },
      "source": [
        "import matplotlib.pyplot as plt\n",
        "\n",
        "plt.imshow(arr)"
      ],
      "execution_count": null,
      "outputs": [
        {
          "output_type": "execute_result",
          "data": {
            "text/plain": [
              "<matplotlib.image.AxesImage at 0x7fb5b60f7310>"
            ]
          },
          "metadata": {
            "tags": []
          },
          "execution_count": 30
        },
        {
          "output_type": "display_data",
          "data": {
            "image/png": "[encoded data removed]",
            "text/plain": [
              "<Figure size 432x288 with 1 Axes>"
            ]
          },
          "metadata": {
            "tags": [],
            "needs_background": "light"
          }
        }
      ]
    },
    {
      "cell_type": "code",
      "metadata": {
        "colab": {
          "base_uri": "https://localhost:8080/",
          "height": 287
        },
        "id": "OcDZHYFABnyN",
        "outputId": "46926744-db15-4618-8884-d836203f3f0e"
      },
      "source": [
        "plt.imshow(im)"
      ],
      "execution_count": null,
      "outputs": [
        {
          "output_type": "execute_result",
          "data": {
            "text/plain": [
              "<matplotlib.image.AxesImage at 0x7fb5b3728390>"
            ]
          },
          "metadata": {
            "tags": []
          },
          "execution_count": 31
        },
        {
          "output_type": "display_data",
          "data": {
            "image/png": "[encoded data removed]",
            "text/plain": [
              "<Figure size 432x288 with 1 Axes>"
            ]
          },
          "metadata": {
            "tags": [],
            "needs_background": "light"
          }
        }
      ]
    },
    {
      "cell_type": "code",
      "metadata": {
        "id": "wxk0L37SBu4v"
      },
      "source": [
        "import matplotlib.pyplot as plt\n",
        "\n",
        "plt.imshow(arr)\n",
        "gray=arr.mean(axis=2)"
      ],
      "execution_count": null,
      "outputs": []
    },
    {
      "cell_type": "code",
      "metadata": {
        "colab": {
          "base_uri": "https://localhost:8080/"
        },
        "id": "iLSDQ99dB0h5",
        "outputId": "4b026478-032c-49e2-9d69-8dd7f971c285"
      },
      "source": [
        "gray"
      ],
      "execution_count": null,
      "outputs": [
        {
          "output_type": "execute_result",
          "data": {
            "text/plain": [
              "array([[162.66666667, 162.66666667, 164.33333333, ..., 166.66666667,\n",
              "        153.66666667, 129.66666667],\n",
              "       [162.66666667, 162.66666667, 164.33333333, ..., 166.66666667,\n",
              "        153.66666667, 129.66666667],\n",
              "       [162.66666667, 162.66666667, 164.33333333, ..., 166.66666667,\n",
              "        153.66666667, 129.66666667],\n",
              "       ...,\n",
              "       [ 54.        ,  54.        ,  59.        , ..., 110.        ,\n",
              "        105.33333333, 106.        ],\n",
              "       [ 53.66666667,  53.66666667,  63.33333333, ..., 109.33333333,\n",
              "        111.        , 113.33333333],\n",
              "       [ 53.66666667,  53.66666667,  63.33333333, ..., 109.33333333,\n",
              "        111.        , 113.33333333]])"
            ]
          },
          "metadata": {
            "tags": []
          },
          "execution_count": 33
        }
      ]
    },
    {
      "cell_type": "code",
      "metadata": {
        "colab": {
          "base_uri": "https://localhost:8080/",
          "height": 269
        },
        "id": "4xZL5gUzB1Uw",
        "outputId": "b809e294-c01f-4918-8866-f337fe4815f7"
      },
      "source": [
        "plt.imshow(gray,cmap='gray');"
      ],
      "execution_count": null,
      "outputs": [
        {
          "output_type": "display_data",
          "data": {
            "image/png": "[encoded data removed]",
            "text/plain": [
              "<Figure size 432x288 with 1 Axes>"
            ]
          },
          "metadata": {
            "tags": [],
            "needs_background": "light"
          }
        }
      ]
    },
    {
      "cell_type": "code",
      "metadata": {
        "id": "HfPlsCXGB5eX"
      },
      "source": [
        "x1=[0,0,1,1]"
      ],
      "execution_count": null,
      "outputs": []
    },
    {
      "cell_type": "code",
      "metadata": {
        "id": "skpVrdHqDZmH"
      },
      "source": [
        "x2=[0,1,0,1]"
      ],
      "execution_count": null,
      "outputs": []
    },
    {
      "cell_type": "code",
      "metadata": {
        "id": "87zcsHT1DcuE"
      },
      "source": [
        "y=[0,0,0,0]"
      ],
      "execution_count": null,
      "outputs": []
    },
    {
      "cell_type": "code",
      "metadata": {
        "colab": {
          "base_uri": "https://localhost:8080/"
        },
        "id": "JBQxYqm7Dio-",
        "outputId": "58688f71-caf7-41c3-842f-400571f77b49"
      },
      "source": [
        "y"
      ],
      "execution_count": null,
      "outputs": [
        {
          "output_type": "execute_result",
          "data": {
            "text/plain": [
              "[0, 0, 0, 0]"
            ]
          },
          "metadata": {
            "tags": []
          },
          "execution_count": 43
        }
      ]
    },
    {
      "cell_type": "code",
      "metadata": {
        "id": "am7jJTO0DoNE"
      },
      "source": [
        "y = list(a^b for a,b in zip(x1,x2))"
      ],
      "execution_count": null,
      "outputs": []
    },
    {
      "cell_type": "code",
      "metadata": {
        "colab": {
          "base_uri": "https://localhost:8080/"
        },
        "id": "eP2_EqpmD_ST",
        "outputId": "0d595a62-642c-4f4f-de6d-622bf39e547f"
      },
      "source": [
        "print(\"EXOR=\",y)"
      ],
      "execution_count": null,
      "outputs": [
        {
          "output_type": "stream",
          "text": [
            "EXOR= [0, 1, 1, 0]\n"
          ],
          "name": "stdout"
        }
      ]
    },
    {
      "cell_type": "code",
      "metadata": {
        "id": "CyjwowrPEqNG"
      },
      "source": [
        ""
      ],
      "execution_count": null,
      "outputs": []
    },
    {
      "cell_type": "code",
      "metadata": {
        "id": "nTUHHebmExlK"
      },
      "source": [
        "import random"
      ],
      "execution_count": null,
      "outputs": []
    },
    {
      "cell_type": "code",
      "metadata": {
        "colab": {
          "base_uri": "https://localhost:8080/",
          "height": 283
        },
        "id": "ne-EZqSpL7db",
        "outputId": "f6a88ca3-d5aa-42f1-867b-b9dc5e1bcc26"
      },
      "source": [
        "\n",
        "plt.scatter(x1,x2)"
      ],
      "execution_count": null,
      "outputs": [
        {
          "output_type": "execute_result",
          "data": {
            "text/plain": [
              "<matplotlib.collections.PathCollection at 0x7fb5ae676610>"
            ]
          },
          "metadata": {
            "tags": []
          },
          "execution_count": 114
        },
        {
          "output_type": "display_data",
          "data": {
            "image/png": "[encoded data removed]",
            "text/plain": [
              "<Figure size 432x288 with 1 Axes>"
            ]
          },
          "metadata": {
            "tags": [],
            "needs_background": "light"
          }
        }
      ]
    },
    {
      "cell_type": "code",
      "metadata": {
        "colab": {
          "base_uri": "https://localhost:8080/",
          "height": 295
        },
        "id": "F6-BcMaAL9qe",
        "outputId": "942abe8d-15fa-4a3e-b96e-83703bafd115"
      },
      "source": [
        "# Determine the vector length\n",
        "vector_length = 2000\n",
        "\n",
        "# create dataset\n",
        "x =  (np.random.random((vector_length,2))-0.5) * 2\n",
        "x1 = x[:,0] # column 1\n",
        "x2 = x[:,1] # column 2\n",
        "y = np.zeros(vector_length)\n",
        "\n",
        "# assign 0s and 1s based on XOR \n",
        "for i in range(len(x1)):\n",
        "  if x1[i]<=0 and x2[i]<=0:\n",
        "    y[i] = 0\n",
        "  elif x1[i]>0 and x2[i]>0:\n",
        "    y[i] = 0\n",
        "  else:\n",
        "    y[i] = 1\n",
        "\n",
        "# plot data\n",
        "plt.title('Matplotlib Exercise')\n",
        "plt.xlabel('x1')\n",
        "plt.ylabel('x2')\n",
        "plt.scatter(x1,x2, c = y);"
      ],
      "execution_count": null,
      "outputs": [
        {
          "output_type": "display_data",
          "data": {
            "image/png": "[encoded data removed]",
            "text/plain": [
              "<Figure size 432x288 with 1 Axes>"
            ]
          },
          "metadata": {
            "tags": [],
            "needs_background": "light"
          }
        }
      ]
    },
    {
      "cell_type": "code",
      "metadata": {
        "id": "QYkZuULZmT7k"
      },
      "source": [
        "x =  (np.random.random((vector_length,2))-0.5) * 2"
      ],
      "execution_count": null,
      "outputs": []
    },
    {
      "cell_type": "code",
      "metadata": {
        "colab": {
          "base_uri": "https://localhost:8080/"
        },
        "id": "zXusmbMvmz0q",
        "outputId": "e95a1c14-dc5f-45c2-8463-aad9ea096d6d"
      },
      "source": [
        ""
      ],
      "execution_count": null,
      "outputs": [
        {
          "output_type": "execute_result",
          "data": {
            "text/plain": [
              "array([-0.99227189, -0.1334122 ,  0.10147529, ...,  0.55767858,\n",
              "       -0.56973272, -0.92818577])"
            ]
          },
          "metadata": {
            "tags": []
          },
          "execution_count": 87
        }
      ]
    },
    {
      "cell_type": "code",
      "metadata": {
        "colab": {
          "base_uri": "https://localhost:8080/"
        },
        "id": "YIPdPVhBppti",
        "outputId": "fd640337-aa3f-48de-d3af-22439d60dd6a"
      },
      "source": [
        "np.random.random(1,)"
      ],
      "execution_count": null,
      "outputs": [
        {
          "output_type": "execute_result",
          "data": {
            "text/plain": [
              "array([0.88649566])"
            ]
          },
          "metadata": {
            "tags": []
          },
          "execution_count": 82
        }
      ]
    },
    {
      "cell_type": "code",
      "metadata": {
        "id": "wQLjVU5_p0ru"
      },
      "source": [
        "wide=2000"
      ],
      "execution_count": null,
      "outputs": []
    },
    {
      "cell_type": "code",
      "metadata": {
        "id": "i-tduo1irVn5"
      },
      "source": [
        "x= (np.random.random((wide,2))-0.5) * 2"
      ],
      "execution_count": null,
      "outputs": []
    },
    {
      "cell_type": "code",
      "metadata": {
        "id": "O_dZnPeorlz1"
      },
      "source": [
        "x1f=x[:,0]"
      ],
      "execution_count": null,
      "outputs": []
    },
    {
      "cell_type": "code",
      "metadata": {
        "id": "eZG9qlf6r-CJ"
      },
      "source": [
        "x2f=x[:1]"
      ],
      "execution_count": null,
      "outputs": []
    },
    {
      "cell_type": "code",
      "metadata": {
        "colab": {
          "base_uri": "https://localhost:8080/",
          "height": 283
        },
        "id": "bAOYxao_sHC2",
        "outputId": "6367ce1a-8ba7-4711-db2b-0b1178b3ca26"
      },
      "source": [
        "x= (np.random.random((wide,2))-0.5) * 2\n",
        "x1f=x[:,0]\n",
        "x2f=x[:,1]\n",
        "y=np.zeros(wide)\n",
        "\n",
        "for i in range(len(x1f)):\n",
        "  if x1f[i]<=0 and x2f[i]<=0:\n",
        "    y[i]=0\n",
        "  elif x1f[i]>0 and x2f[i]>0:\n",
        "    y[i]=0\n",
        "  else:\n",
        "    y[i]=1\n",
        "plt.scatter(x1f,x2f,c=y)"
      ],
      "execution_count": null,
      "outputs": [
        {
          "output_type": "execute_result",
          "data": {
            "text/plain": [
              "<matplotlib.collections.PathCollection at 0x7fb5ae6e7cd0>"
            ]
          },
          "metadata": {
            "tags": []
          },
          "execution_count": 108
        },
        {
          "output_type": "display_data",
          "data": {
            "image/png": "[encoded data removed]",
            "text/plain": [
              "<Figure size 432x288 with 1 Axes>"
            ]
          },
          "metadata": {
            "tags": [],
            "needs_background": "light"
          }
        }
      ]
    },
    {
      "cell_type": "code",
      "metadata": {
        "colab": {
          "base_uri": "https://localhost:8080/"
        },
        "id": "scK4Hgl9srH0",
        "outputId": "ef891156-2927-4812-bfbf-5510f594e2c8"
      },
      "source": [
        "x.shape"
      ],
      "execution_count": null,
      "outputs": [
        {
          "output_type": "execute_result",
          "data": {
            "text/plain": [
              "(2000, 2)"
            ]
          },
          "metadata": {
            "tags": []
          },
          "execution_count": 109
        }
      ]
    },
    {
      "cell_type": "code",
      "metadata": {
        "colab": {
          "base_uri": "https://localhost:8080/"
        },
        "id": "wBrOLkAevnJR",
        "outputId": "4552fc33-e7ac-4475-c90d-96b4c03e1c4e"
      },
      "source": [
        "x[1,]"
      ],
      "execution_count": null,
      "outputs": [
        {
          "output_type": "execute_result",
          "data": {
            "text/plain": [
              "array([-0.315246  , -0.91599556])"
            ]
          },
          "metadata": {
            "tags": []
          },
          "execution_count": 113
        }
      ]
    },
    {
      "cell_type": "code",
      "metadata": {
        "id": "_vyRlTWovn_x",
        "colab": {
          "base_uri": "https://localhost:8080/",
          "height": 173
        },
        "outputId": "f316a4d7-79ef-416a-d535-2ba29a36565c"
      },
      "source": [
        "A=list.append(0.3,0.6)"
      ],
      "execution_count": null,
      "outputs": [
        {
          "output_type": "error",
          "ename": "TypeError",
          "evalue": "ignored",
          "traceback": [
            "\u001b[0;31m---------------------------------------------------------------------------\u001b[0m",
            "\u001b[0;31mTypeError\u001b[0m                                 Traceback (most recent call last)",
            "\u001b[0;32m<ipython-input-3-191b96998f6f>\u001b[0m in \u001b[0;36m<module>\u001b[0;34m()\u001b[0m\n\u001b[0;32m----> 1\u001b[0;31m \u001b[0mA\u001b[0m\u001b[0;34m=\u001b[0m\u001b[0mlist\u001b[0m\u001b[0;34m.\u001b[0m\u001b[0mappend\u001b[0m\u001b[0;34m(\u001b[0m\u001b[0;36m0.3\u001b[0m\u001b[0;34m,\u001b[0m\u001b[0;36m0.6\u001b[0m\u001b[0;34m)\u001b[0m\u001b[0;34m\u001b[0m\u001b[0;34m\u001b[0m\u001b[0m\n\u001b[0m",
            "\u001b[0;31mTypeError\u001b[0m: descriptor 'append' requires a 'list' object but received a 'float'"
          ]
        }
      ]
    },
    {
      "cell_type": "code",
      "metadata": {
        "colab": {
          "base_uri": "https://localhost:8080/",
          "height": 173
        },
        "id": "xIfnB97Q3_fj",
        "outputId": "8fb7b76e-98aa-4380-a5f9-b8acdaed4211"
      },
      "source": [
        "d={var:100}"
      ],
      "execution_count": null,
      "outputs": [
        {
          "output_type": "error",
          "ename": "NameError",
          "evalue": "ignored",
          "traceback": [
            "\u001b[0;31m---------------------------------------------------------------------------\u001b[0m",
            "\u001b[0;31mNameError\u001b[0m                                 Traceback (most recent call last)",
            "\u001b[0;32m<ipython-input-4-712381731f05>\u001b[0m in \u001b[0;36m<module>\u001b[0;34m()\u001b[0m\n\u001b[0;32m----> 1\u001b[0;31m \u001b[0md\u001b[0m\u001b[0;34m=\u001b[0m\u001b[0;34m{\u001b[0m\u001b[0mvar\u001b[0m\u001b[0;34m:\u001b[0m\u001b[0;36m100\u001b[0m\u001b[0;34m}\u001b[0m\u001b[0;34m\u001b[0m\u001b[0;34m\u001b[0m\u001b[0m\n\u001b[0m",
            "\u001b[0;31mNameError\u001b[0m: name 'var' is not defined"
          ]
        }
      ]
    },
    {
      "cell_type": "code",
      "metadata": {
        "id": "vVFsargW4Gyw"
      },
      "source": [
        "A=[1,2,3,4,5,6,7,8,9]"
      ],
      "execution_count": null,
      "outputs": []
    },
    {
      "cell_type": "code",
      "metadata": {
        "colab": {
          "base_uri": "https://localhost:8080/"
        },
        "id": "9zlmM1Y549Gx",
        "outputId": "2ce0964a-9246-4c80-b224-671fcdc62e04"
      },
      "source": [
        "A[3:6]"
      ],
      "execution_count": null,
      "outputs": [
        {
          "output_type": "execute_result",
          "data": {
            "text/plain": [
              "[4, 5, 6]"
            ]
          },
          "metadata": {
            "tags": []
          },
          "execution_count": 7
        }
      ]
    },
    {
      "cell_type": "code",
      "metadata": {
        "id": "1eiaToMJ5Bab"
      },
      "source": [
        "d=dict([(1,100),(2,200),(3,300)])\n",
        "mylist=[x for x in d]"
      ],
      "execution_count": null,
      "outputs": []
    },
    {
      "cell_type": "code",
      "metadata": {
        "colab": {
          "base_uri": "https://localhost:8080/"
        },
        "id": "JSoc7WEm5PR4",
        "outputId": "d96ed6fe-59a1-4526-f9c1-7c65a983e1c6"
      },
      "source": [
        "mylist"
      ],
      "execution_count": null,
      "outputs": [
        {
          "output_type": "execute_result",
          "data": {
            "text/plain": [
              "[1, 2, 3]"
            ]
          },
          "metadata": {
            "tags": []
          },
          "execution_count": 10
        }
      ]
    },
    {
      "cell_type": "code",
      "metadata": {
        "colab": {
          "base_uri": "https://localhost:8080/"
        },
        "id": "FvWYc6Jh5VN7",
        "outputId": "f4a817cd-c16b-4e35-883c-ba6e40c67eed"
      },
      "source": [
        "[2*x+1 for x in range(5)]"
      ],
      "execution_count": null,
      "outputs": [
        {
          "output_type": "execute_result",
          "data": {
            "text/plain": [
              "[1, 3, 5, 7, 9]"
            ]
          },
          "metadata": {
            "tags": []
          },
          "execution_count": 14
        }
      ]
    },
    {
      "cell_type": "code",
      "metadata": {
        "id": "T6vUM_ap5c4k"
      },
      "source": [
        "def f(t):\n",
        "  x,y=t\n",
        "  return x**y"
      ],
      "execution_count": null,
      "outputs": []
    },
    {
      "cell_type": "code",
      "metadata": {
        "colab": {
          "base_uri": "https://localhost:8080/"
        },
        "id": "a3s0Xdc-55bT",
        "outputId": "073bb6f8-53ba-4456-fc11-bb48dd74b53c"
      },
      "source": [
        "c"
      ],
      "execution_count": null,
      "outputs": [
        {
          "output_type": "execute_result",
          "data": {
            "text/plain": [
              "100"
            ]
          },
          "metadata": {
            "tags": []
          },
          "execution_count": 25
        }
      ]
    },
    {
      "cell_type": "code",
      "metadata": {
        "colab": {
          "base_uri": "https://localhost:8080/",
          "height": 264
        },
        "id": "THMzdHnQ6KCs",
        "outputId": "94335ae3-437a-4318-d5be-346cb7f20cee"
      },
      "source": [
        "f([2,3,4])"
      ],
      "execution_count": null,
      "outputs": [
        {
          "output_type": "error",
          "ename": "ValueError",
          "evalue": "ignored",
          "traceback": [
            "\u001b[0;31m---------------------------------------------------------------------------\u001b[0m",
            "\u001b[0;31mValueError\u001b[0m                                Traceback (most recent call last)",
            "\u001b[0;32m<ipython-input-28-605aa8c3f252>\u001b[0m in \u001b[0;36m<module>\u001b[0;34m()\u001b[0m\n\u001b[0;32m----> 1\u001b[0;31m \u001b[0mf\u001b[0m\u001b[0;34m(\u001b[0m\u001b[0;34m[\u001b[0m\u001b[0;36m2\u001b[0m\u001b[0;34m,\u001b[0m\u001b[0;36m3\u001b[0m\u001b[0;34m,\u001b[0m\u001b[0;36m4\u001b[0m\u001b[0;34m]\u001b[0m\u001b[0;34m)\u001b[0m\u001b[0;34m\u001b[0m\u001b[0;34m\u001b[0m\u001b[0m\n\u001b[0m",
            "\u001b[0;32m<ipython-input-27-8f202be09b1b>\u001b[0m in \u001b[0;36mf\u001b[0;34m(t)\u001b[0m\n\u001b[1;32m      1\u001b[0m \u001b[0;32mdef\u001b[0m \u001b[0mf\u001b[0m\u001b[0;34m(\u001b[0m\u001b[0mt\u001b[0m\u001b[0;34m)\u001b[0m\u001b[0;34m:\u001b[0m\u001b[0;34m\u001b[0m\u001b[0;34m\u001b[0m\u001b[0m\n\u001b[0;32m----> 2\u001b[0;31m   \u001b[0mx\u001b[0m\u001b[0;34m,\u001b[0m\u001b[0my\u001b[0m\u001b[0;34m=\u001b[0m\u001b[0mt\u001b[0m\u001b[0;34m\u001b[0m\u001b[0;34m\u001b[0m\u001b[0m\n\u001b[0m\u001b[1;32m      3\u001b[0m   \u001b[0;32mreturn\u001b[0m \u001b[0mx\u001b[0m\u001b[0;34m**\u001b[0m\u001b[0my\u001b[0m\u001b[0;34m\u001b[0m\u001b[0;34m\u001b[0m\u001b[0m\n",
            "\u001b[0;31mValueError\u001b[0m: too many values to unpack (expected 2)"
          ]
        }
      ]
    },
    {
      "cell_type": "code",
      "metadata": {
        "colab": {
          "base_uri": "https://localhost:8080/",
          "height": 173
        },
        "id": "73o9r9qF7IR0",
        "outputId": "92251954-48fb-4dd1-a1aa-86486f48ff98"
      },
      "source": [
        "f(2,3)"
      ],
      "execution_count": null,
      "outputs": [
        {
          "output_type": "error",
          "ename": "TypeError",
          "evalue": "ignored",
          "traceback": [
            "\u001b[0;31m---------------------------------------------------------------------------\u001b[0m",
            "\u001b[0;31mTypeError\u001b[0m                                 Traceback (most recent call last)",
            "\u001b[0;32m<ipython-input-29-ff53f0bb128a>\u001b[0m in \u001b[0;36m<module>\u001b[0;34m()\u001b[0m\n\u001b[0;32m----> 1\u001b[0;31m \u001b[0mf\u001b[0m\u001b[0;34m(\u001b[0m\u001b[0;36m2\u001b[0m\u001b[0;34m,\u001b[0m\u001b[0;36m3\u001b[0m\u001b[0;34m)\u001b[0m\u001b[0;34m\u001b[0m\u001b[0;34m\u001b[0m\u001b[0m\n\u001b[0m",
            "\u001b[0;31mTypeError\u001b[0m: f() takes 1 positional argument but 2 were given"
          ]
        }
      ]
    },
    {
      "cell_type": "code",
      "metadata": {
        "colab": {
          "base_uri": "https://localhost:8080/"
        },
        "id": "kr5QoeC17JrU",
        "outputId": "35a3e648-a395-4a6f-81fe-a32dfa399355"
      },
      "source": [
        "f((2,3))"
      ],
      "execution_count": null,
      "outputs": [
        {
          "output_type": "execute_result",
          "data": {
            "text/plain": [
              "8"
            ]
          },
          "metadata": {
            "tags": []
          },
          "execution_count": 30
        }
      ]
    },
    {
      "cell_type": "code",
      "metadata": {
        "colab": {
          "base_uri": "https://localhost:8080/",
          "height": 264
        },
        "id": "SJTIK96J7L1P",
        "outputId": "16bc4f0c-f319-4d2a-a843-6ca49cc3f9d9"
      },
      "source": [
        "f(('2','3'))"
      ],
      "execution_count": null,
      "outputs": [
        {
          "output_type": "error",
          "ename": "TypeError",
          "evalue": "ignored",
          "traceback": [
            "\u001b[0;31m---------------------------------------------------------------------------\u001b[0m",
            "\u001b[0;31mTypeError\u001b[0m                                 Traceback (most recent call last)",
            "\u001b[0;32m<ipython-input-31-bcdaf94994a5>\u001b[0m in \u001b[0;36m<module>\u001b[0;34m()\u001b[0m\n\u001b[0;32m----> 1\u001b[0;31m \u001b[0mf\u001b[0m\u001b[0;34m(\u001b[0m\u001b[0;34m(\u001b[0m\u001b[0;34m'2'\u001b[0m\u001b[0;34m,\u001b[0m\u001b[0;34m'3'\u001b[0m\u001b[0;34m)\u001b[0m\u001b[0;34m)\u001b[0m\u001b[0;34m\u001b[0m\u001b[0;34m\u001b[0m\u001b[0m\n\u001b[0m",
            "\u001b[0;32m<ipython-input-27-8f202be09b1b>\u001b[0m in \u001b[0;36mf\u001b[0;34m(t)\u001b[0m\n\u001b[1;32m      1\u001b[0m \u001b[0;32mdef\u001b[0m \u001b[0mf\u001b[0m\u001b[0;34m(\u001b[0m\u001b[0mt\u001b[0m\u001b[0;34m)\u001b[0m\u001b[0;34m:\u001b[0m\u001b[0;34m\u001b[0m\u001b[0;34m\u001b[0m\u001b[0m\n\u001b[1;32m      2\u001b[0m   \u001b[0mx\u001b[0m\u001b[0;34m,\u001b[0m\u001b[0my\u001b[0m\u001b[0;34m=\u001b[0m\u001b[0mt\u001b[0m\u001b[0;34m\u001b[0m\u001b[0;34m\u001b[0m\u001b[0m\n\u001b[0;32m----> 3\u001b[0;31m   \u001b[0;32mreturn\u001b[0m \u001b[0mx\u001b[0m\u001b[0;34m**\u001b[0m\u001b[0my\u001b[0m\u001b[0;34m\u001b[0m\u001b[0;34m\u001b[0m\u001b[0m\n\u001b[0m",
            "\u001b[0;31mTypeError\u001b[0m: unsupported operand type(s) for ** or pow(): 'str' and 'str'"
          ]
        }
      ]
    },
    {
      "cell_type": "code",
      "metadata": {
        "id": "HdFTm4-v7Owl"
      },
      "source": [
        "def c(x,y=10):\n",
        "  return x*y"
      ],
      "execution_count": null,
      "outputs": []
    },
    {
      "cell_type": "code",
      "metadata": {
        "colab": {
          "base_uri": "https://localhost:8080/",
          "height": 173
        },
        "id": "b3PCsIS37U51",
        "outputId": "02e68960-86f9-43d7-8746-81b4b2f9f251"
      },
      "source": [
        "res=c()"
      ],
      "execution_count": null,
      "outputs": [
        {
          "output_type": "error",
          "ename": "TypeError",
          "evalue": "ignored",
          "traceback": [
            "\u001b[0;31m---------------------------------------------------------------------------\u001b[0m",
            "\u001b[0;31mTypeError\u001b[0m                                 Traceback (most recent call last)",
            "\u001b[0;32m<ipython-input-44-b5528b9ff680>\u001b[0m in \u001b[0;36m<module>\u001b[0;34m()\u001b[0m\n\u001b[0;32m----> 1\u001b[0;31m \u001b[0mres\u001b[0m\u001b[0;34m=\u001b[0m\u001b[0mc\u001b[0m\u001b[0;34m(\u001b[0m\u001b[0;34m)\u001b[0m\u001b[0;34m\u001b[0m\u001b[0;34m\u001b[0m\u001b[0m\n\u001b[0m",
            "\u001b[0;31mTypeError\u001b[0m: c() missing 1 required positional argument: 'x'"
          ]
        }
      ]
    },
    {
      "cell_type": "code",
      "metadata": {
        "id": "jtCy0xr57ZUP"
      },
      "source": [
        "res=c(x=1,y=2)"
      ],
      "execution_count": null,
      "outputs": []
    },
    {
      "cell_type": "code",
      "metadata": {
        "colab": {
          "base_uri": "https://localhost:8080/"
        },
        "id": "Q-IqQa_K7dxl",
        "outputId": "a2d444ff-06aa-4d5b-e895-2817b81da642"
      },
      "source": [
        "print (res)"
      ],
      "execution_count": null,
      "outputs": [
        {
          "output_type": "stream",
          "text": [
            "2\n"
          ],
          "name": "stdout"
        }
      ]
    },
    {
      "cell_type": "code",
      "metadata": {
        "colab": {
          "base_uri": "https://localhost:8080/",
          "height": 136
        },
        "id": "JDgotWNC7lQ5",
        "outputId": "39afcfe6-fe94-40a0-d909-8a1bd726e0ad"
      },
      "source": [
        "res1=c(x=1,y)"
      ],
      "execution_count": null,
      "outputs": [
        {
          "output_type": "error",
          "ename": "SyntaxError",
          "evalue": "ignored",
          "traceback": [
            "\u001b[0;36m  File \u001b[0;32m\"<ipython-input-41-877565b4fa6f>\"\u001b[0;36m, line \u001b[0;32m1\u001b[0m\n\u001b[0;31m    res1=c(x=1,y)\u001b[0m\n\u001b[0m              ^\u001b[0m\n\u001b[0;31mSyntaxError\u001b[0m\u001b[0;31m:\u001b[0m positional argument follows keyword argument\n"
          ]
        }
      ]
    },
    {
      "cell_type": "code",
      "metadata": {
        "id": "rMK_CjYu7qgi"
      },
      "source": [
        "res2=c((1,2))"
      ],
      "execution_count": null,
      "outputs": []
    },
    {
      "cell_type": "code",
      "metadata": {
        "colab": {
          "base_uri": "https://localhost:8080/"
        },
        "id": "BpMLVgnn7uPn",
        "outputId": "76b00d9d-059f-4cb3-d043-1a81d3d710ee"
      },
      "source": [
        "res2"
      ],
      "execution_count": null,
      "outputs": [
        {
          "output_type": "execute_result",
          "data": {
            "text/plain": [
              "(1, 2, 1, 2, 1, 2, 1, 2, 1, 2, 1, 2, 1, 2, 1, 2, 1, 2, 1, 2)"
            ]
          },
          "metadata": {
            "tags": []
          },
          "execution_count": 53
        }
      ]
    },
    {
      "cell_type": "code",
      "metadata": {
        "id": "lgfwqmyq7vGl"
      },
      "source": [
        "def f(x,y):\n",
        "   x**2+y**2"
      ],
      "execution_count": null,
      "outputs": []
    },
    {
      "cell_type": "code",
      "metadata": {
        "id": "su2_Ba3H8BUA"
      },
      "source": [
        "f(1,3)"
      ],
      "execution_count": null,
      "outputs": []
    },
    {
      "cell_type": "code",
      "metadata": {
        "colab": {
          "base_uri": "https://localhost:8080/"
        },
        "id": "F6i7ZCLE8C_t",
        "outputId": "dd968ef5-35ae-4f3e-f7dd-daf5eca121b8"
      },
      "source": [
        ""
      ],
      "execution_count": null,
      "outputs": [
        {
          "output_type": "execute_result",
          "data": {
            "text/plain": [
              "<function __main__.f>"
            ]
          },
          "metadata": {
            "tags": []
          },
          "execution_count": 49
        }
      ]
    },
    {
      "cell_type": "code",
      "metadata": {
        "id": "VyO5eBLI8FXz"
      },
      "source": [
        "if __name__ ==\"__main__\":\n",
        "  pass"
      ],
      "execution_count": null,
      "outputs": []
    },
    {
      "cell_type": "code",
      "metadata": {
        "id": "v-wD7ntJ9UrQ"
      },
      "source": [
        "d={}"
      ],
      "execution_count": null,
      "outputs": []
    },
    {
      "cell_type": "code",
      "metadata": {
        "id": "QMW6IT7x-OWQ"
      },
      "source": [
        "d[0]=100"
      ],
      "execution_count": null,
      "outputs": []
    },
    {
      "cell_type": "code",
      "metadata": {
        "colab": {
          "base_uri": "https://localhost:8080/"
        },
        "id": "_freC1AZ-O0b",
        "outputId": "36484863-b390-4f27-fd33-3cd4552b59f8"
      },
      "source": [
        "d"
      ],
      "execution_count": null,
      "outputs": [
        {
          "output_type": "execute_result",
          "data": {
            "text/plain": [
              "{}"
            ]
          },
          "metadata": {
            "tags": []
          },
          "execution_count": 57
        }
      ]
    },
    {
      "cell_type": "code",
      "metadata": {
        "colab": {
          "base_uri": "https://localhost:8080/"
        },
        "id": "jXi1mw22-UKq",
        "outputId": "d669f932-e0cc-4c92-cfae-84bc3a813482"
      },
      "source": [
        "d.values"
      ],
      "execution_count": null,
      "outputs": [
        {
          "output_type": "execute_result",
          "data": {
            "text/plain": [
              "<function dict.values>"
            ]
          },
          "metadata": {
            "tags": []
          },
          "execution_count": 58
        }
      ]
    },
    {
      "cell_type": "code",
      "metadata": {
        "colab": {
          "base_uri": "https://localhost:8080/"
        },
        "id": "USYsAU_Q-Zn1",
        "outputId": "837ba3ce-33ab-45d7-e16d-5f3da03fe907"
      },
      "source": [
        "d.keys"
      ],
      "execution_count": null,
      "outputs": [
        {
          "output_type": "execute_result",
          "data": {
            "text/plain": [
              "<function dict.keys>"
            ]
          },
          "metadata": {
            "tags": []
          },
          "execution_count": 59
        }
      ]
    },
    {
      "cell_type": "code",
      "metadata": {
        "id": "caZ7nkET-adv"
      },
      "source": [
        "d={}\n",
        "d[0]=100"
      ],
      "execution_count": null,
      "outputs": []
    },
    {
      "cell_type": "code",
      "metadata": {
        "colab": {
          "base_uri": "https://localhost:8080/"
        },
        "id": "jCt263ZX-eMS",
        "outputId": "660587d0-5511-4d77-d1ba-2dbf8c52b89e"
      },
      "source": [
        "d"
      ],
      "execution_count": null,
      "outputs": [
        {
          "output_type": "execute_result",
          "data": {
            "text/plain": [
              "{0: 100}"
            ]
          },
          "metadata": {
            "tags": []
          },
          "execution_count": 61
        }
      ]
    },
    {
      "cell_type": "code",
      "metadata": {
        "id": "kShyltYj-e2x"
      },
      "source": [
        "i=0\n",
        "li=[0,0]"
      ],
      "execution_count": null,
      "outputs": []
    },
    {
      "cell_type": "code",
      "metadata": {
        "colab": {
          "base_uri": "https://localhost:8080/"
        },
        "id": "qnZURBp7-qZG",
        "outputId": "a2600925-d5ee-4349-d580-1b922382c6f1"
      },
      "source": [
        "li.index(0)"
      ],
      "execution_count": null,
      "outputs": [
        {
          "output_type": "execute_result",
          "data": {
            "text/plain": [
              "0"
            ]
          },
          "metadata": {
            "tags": []
          },
          "execution_count": 63
        }
      ]
    },
    {
      "cell_type": "code",
      "metadata": {
        "id": "bR3207Jq-sPC"
      },
      "source": [
        "i=0\n",
        "def f(x,y):\n",
        "  result=[x,y]\n",
        "  while True:\n",
        "    tmp=x\n",
        "    x=yieldy=tmp+x\n",
        "    result.append(y)\n",
        "\n",
        "    i=i+1\n",
        "    if i >100:\n",
        "      break\n",
        "    return result"
      ],
      "execution_count": null,
      "outputs": []
    },
    {
      "cell_type": "code",
      "metadata": {
        "colab": {
          "base_uri": "https://localhost:8080/",
          "height": 300
        },
        "id": "OS0grLMP_0Rh",
        "outputId": "045b8703-38a3-447f-b90b-7e4aeaaf995c"
      },
      "source": [
        "f(1,2)"
      ],
      "execution_count": null,
      "outputs": [
        {
          "output_type": "error",
          "ename": "UnboundLocalError",
          "evalue": "ignored",
          "traceback": [
            "\u001b[0;31m---------------------------------------------------------------------------\u001b[0m",
            "\u001b[0;31mUnboundLocalError\u001b[0m                         Traceback (most recent call last)",
            "\u001b[0;32m<ipython-input-77-f7d8b0a791fb>\u001b[0m in \u001b[0;36m<module>\u001b[0;34m()\u001b[0m\n\u001b[0;32m----> 1\u001b[0;31m \u001b[0mf\u001b[0m\u001b[0;34m(\u001b[0m\u001b[0;36m1\u001b[0m\u001b[0;34m,\u001b[0m\u001b[0;36m2\u001b[0m\u001b[0;34m)\u001b[0m\u001b[0;34m\u001b[0m\u001b[0;34m\u001b[0m\u001b[0m\n\u001b[0m",
            "\u001b[0;32m<ipython-input-76-8efbbfad2041>\u001b[0m in \u001b[0;36mf\u001b[0;34m(x, y)\u001b[0m\n\u001b[1;32m      7\u001b[0m     \u001b[0mresult\u001b[0m\u001b[0;34m.\u001b[0m\u001b[0mappend\u001b[0m\u001b[0;34m(\u001b[0m\u001b[0my\u001b[0m\u001b[0;34m)\u001b[0m\u001b[0;34m\u001b[0m\u001b[0;34m\u001b[0m\u001b[0m\n\u001b[1;32m      8\u001b[0m \u001b[0;34m\u001b[0m\u001b[0m\n\u001b[0;32m----> 9\u001b[0;31m     \u001b[0mi\u001b[0m\u001b[0;34m=\u001b[0m\u001b[0mi\u001b[0m\u001b[0;34m+\u001b[0m\u001b[0;36m1\u001b[0m\u001b[0;34m\u001b[0m\u001b[0;34m\u001b[0m\u001b[0m\n\u001b[0m\u001b[1;32m     10\u001b[0m     \u001b[0;32mif\u001b[0m \u001b[0mi\u001b[0m \u001b[0;34m>\u001b[0m\u001b[0;36m100\u001b[0m\u001b[0;34m:\u001b[0m\u001b[0;34m\u001b[0m\u001b[0;34m\u001b[0m\u001b[0m\n\u001b[1;32m     11\u001b[0m       \u001b[0;32mbreak\u001b[0m\u001b[0;34m\u001b[0m\u001b[0;34m\u001b[0m\u001b[0m\n",
            "\u001b[0;31mUnboundLocalError\u001b[0m: local variable 'i' referenced before assignment"
          ]
        }
      ]
    },
    {
      "cell_type": "code",
      "metadata": {
        "id": "qAMbs2Lk_5VQ"
      },
      "source": [
        "class Linear_regression:\n",
        "  def gradient_descent(self) :        \n",
        "          # add your code here     \n",
        "          dm=[]\n",
        "          dc=[]       \n",
        "          y_pred=[]\n",
        "          x1=[]\n",
        "          \n",
        "          for i in range(len(x)):\n",
        "            dm.append([0.0])\n",
        "            dc.append([0.0])\n",
        "            y_pred.append(0.0)\n",
        "            x1.append(x[i][0])\n",
        "\n",
        "          while(self.epochs!=0):\n",
        "              for i in range(len(x1)):\n",
        "                  y_pred[i]=x1[i]*self.m+self.c\n",
        "                  dm[i]=x1[i]*(y_pred[i]-y[i])\n",
        "                  dc[i]=y_pred[i]-y[i]\n",
        "              DM=sum(dm)/len(dm)\n",
        "              DC=sum(dc)/len(dc)\n",
        "              self.m=self.m-(self.L*DM)\n",
        "              self.c=self.c-(self.L*DC)\n",
        "              self.epochs-=1\n",
        "          return self.m,self.c\n",
        "                    \n",
        "  #Predictive function to predict y based on new input x     \n",
        "  def predict(self,x_new): \n",
        "          # add your code here            \n",
        "          pred=[]\n",
        "          x2=[]\n",
        "\n",
        "          n=len(x_new)\n",
        "          for i in range(len(x_new)):\n",
        "            x2.append(x_new[i])\n",
        "            pred.append([0.0])\n",
        "          \n",
        "          for i in range(len(x2)):\n",
        "            pred[i]=x2[i]*self.m+self.c\n",
        "          return pred\n"
      ],
      "execution_count": 14,
      "outputs": []
    },
    {
      "cell_type": "code",
      "metadata": {
        "colab": {
          "base_uri": "https://localhost:8080/",
          "height": 266
        },
        "id": "CuF8AFmZ5NEH",
        "outputId": "aa296833-341f-4390-8b2b-afbc098c9ebe"
      },
      "source": [
        "#if __name__ == \"__main__\":  \n",
        "\n",
        "x = [[0.18], [1.0], [0.92], [0.07], [0.85], [0.99], [0.87]]\n",
        "y = [109.85, 155.72, 137.66, 76.17, 139.75, 162.6, 151.77]\n",
        "x_new = [0.9,0.8,0.40,0.7]\n",
        "\n",
        "    \n",
        "   \n",
        "    \n",
        "  \n",
        "    # Test Question 3\n",
        "print(\"\\nQ3\") \n",
        "Linear_model = Linear_regression(x,y,0,0,500,0.001)\n",
        "print(\"I use m=0, c=0, epochs=500, L=0.001\")\n",
        "print(\"my m and c: \",Linear_model.gradient_descent())\n",
        "print(\"right m and c:(35.97890301691016, 46.54235227399102)\")    \n",
        "print(\"--------------\") \n",
        "print(\"my predict: \", Linear_model.predict(x_new))\n",
        "print(\" right predict: [78.92336498921017, 75.32547468751915, 60.93391348075509, 71.72758438582812]\")\n",
        "    \n",
        "    \n",
        "  "
      ],
      "execution_count": 17,
      "outputs": [
        {
          "output_type": "stream",
          "text": [
            "\n",
            "Q3\n"
          ],
          "name": "stdout"
        },
        {
          "output_type": "error",
          "ename": "TypeError",
          "evalue": "ignored",
          "traceback": [
            "\u001b[0;31m---------------------------------------------------------------------------\u001b[0m",
            "\u001b[0;31mTypeError\u001b[0m                                 Traceback (most recent call last)",
            "\u001b[0;32m<ipython-input-17-1fcba04fd78b>\u001b[0m in \u001b[0;36m<module>\u001b[0;34m()\u001b[0m\n\u001b[1;32m     11\u001b[0m     \u001b[0;31m# Test Question 3\u001b[0m\u001b[0;34m\u001b[0m\u001b[0;34m\u001b[0m\u001b[0;34m\u001b[0m\u001b[0m\n\u001b[1;32m     12\u001b[0m \u001b[0mprint\u001b[0m\u001b[0;34m(\u001b[0m\u001b[0;34m\"\\nQ3\"\u001b[0m\u001b[0;34m)\u001b[0m\u001b[0;34m\u001b[0m\u001b[0;34m\u001b[0m\u001b[0m\n\u001b[0;32m---> 13\u001b[0;31m \u001b[0mLinear_model\u001b[0m \u001b[0;34m=\u001b[0m \u001b[0mLinear_regression\u001b[0m\u001b[0;34m(\u001b[0m\u001b[0mx\u001b[0m\u001b[0;34m,\u001b[0m\u001b[0my\u001b[0m\u001b[0;34m,\u001b[0m\u001b[0;36m0\u001b[0m\u001b[0;34m,\u001b[0m\u001b[0;36m0\u001b[0m\u001b[0;34m,\u001b[0m\u001b[0;36m500\u001b[0m\u001b[0;34m,\u001b[0m\u001b[0;36m0.001\u001b[0m\u001b[0;34m)\u001b[0m\u001b[0;34m\u001b[0m\u001b[0;34m\u001b[0m\u001b[0m\n\u001b[0m\u001b[1;32m     14\u001b[0m \u001b[0mprint\u001b[0m\u001b[0;34m(\u001b[0m\u001b[0;34m\"I use m=0, c=0, epochs=500, L=0.001\"\u001b[0m\u001b[0;34m)\u001b[0m\u001b[0;34m\u001b[0m\u001b[0;34m\u001b[0m\u001b[0m\n\u001b[1;32m     15\u001b[0m \u001b[0mprint\u001b[0m\u001b[0;34m(\u001b[0m\u001b[0;34m\"my m and c: \"\u001b[0m\u001b[0;34m,\u001b[0m\u001b[0mLinear_model\u001b[0m\u001b[0;34m.\u001b[0m\u001b[0mgradient_descent\u001b[0m\u001b[0;34m(\u001b[0m\u001b[0;34m)\u001b[0m\u001b[0;34m)\u001b[0m\u001b[0;34m\u001b[0m\u001b[0;34m\u001b[0m\u001b[0m\n",
            "\u001b[0;31mTypeError\u001b[0m: Linear_regression() takes no arguments"
          ]
        }
      ]
    },
    {
      "cell_type": "code",
      "metadata": {
        "id": "d5EB_Dja5YQu"
      },
      "source": [
        ""
      ],
      "execution_count": 15,
      "outputs": []
    }
  ]
}